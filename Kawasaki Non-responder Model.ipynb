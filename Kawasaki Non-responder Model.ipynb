{
 "cells": [
  {
   "cell_type": "code",
   "execution_count": 1,
   "metadata": {
    "collapsed": false
   },
   "outputs": [],
   "source": [
    "%matplotlib inline\n",
    "import numpy as np\n",
    "import pandas as pd\n",
    "import pymc3 as pm\n",
    "import seaborn as sns"
   ]
  },
  {
   "cell_type": "markdown",
   "metadata": {},
   "source": [
    "## Import and clean data"
   ]
  },
  {
   "cell_type": "code",
   "execution_count": 2,
   "metadata": {
    "collapsed": false
   },
   "outputs": [],
   "source": [
    "kawasaki_raw = pd.read_csv('kd_treatment_response.csv', na_values=[' '], \n",
    "                           parse_dates=['dob', 'Date_admission'])"
   ]
  },
  {
   "cell_type": "code",
   "execution_count": 27,
   "metadata": {
    "collapsed": false
   },
   "outputs": [
    {
     "data": {
      "text/plain": [
       "Race2\n",
       "1    0.839465\n",
       "2    0.862385\n",
       "3    0.695652\n",
       "Name: responder, dtype: float64"
      ]
     },
     "execution_count": 27,
     "metadata": {},
     "output_type": "execute_result"
    }
   ],
   "source": [
    "kawasaki_raw.assign(responder=(kawasaki_raw.Responder==1)).groupby('Race2').responder.mean()"
   ]
  },
  {
   "cell_type": "code",
   "execution_count": 28,
   "metadata": {
    "collapsed": false
   },
   "outputs": [
    {
     "data": {
      "text/html": [
       "<div>\n",
       "<table border=\"1\" class=\"dataframe\">\n",
       "  <thead>\n",
       "    <tr style=\"text-align: right;\">\n",
       "      <th></th>\n",
       "      <th>Responder</th>\n",
       "      <th>StudyID</th>\n",
       "      <th>sex</th>\n",
       "      <th>dob</th>\n",
       "      <th>year_dob</th>\n",
       "      <th>month_dob</th>\n",
       "      <th>race</th>\n",
       "      <th>KD_complete</th>\n",
       "      <th>Race2</th>\n",
       "      <th>ethnicity</th>\n",
       "      <th>...</th>\n",
       "      <th>Ectasiaoraneurysm7</th>\n",
       "      <th>Ectasiaoraneurysm8</th>\n",
       "      <th>Ectasiaoraneurysm9</th>\n",
       "      <th>Ectasiaoraneurysm10</th>\n",
       "      <th>Ectasiaoraneurysm11</th>\n",
       "      <th>Totalectasia/aneurysm</th>\n",
       "      <th>age_months</th>\n",
       "      <th>age_years</th>\n",
       "      <th>age_norm</th>\n",
       "      <th>age_norm2</th>\n",
       "    </tr>\n",
       "  </thead>\n",
       "  <tbody>\n",
       "    <tr>\n",
       "      <th>0</th>\n",
       "      <td>2</td>\n",
       "      <td>KD001</td>\n",
       "      <td>0</td>\n",
       "      <td>2004-12-06</td>\n",
       "      <td>2004</td>\n",
       "      <td>12</td>\n",
       "      <td>0</td>\n",
       "      <td>1</td>\n",
       "      <td>3</td>\n",
       "      <td>1</td>\n",
       "      <td>...</td>\n",
       "      <td>0</td>\n",
       "      <td>0</td>\n",
       "      <td>0</td>\n",
       "      <td>0</td>\n",
       "      <td>0</td>\n",
       "      <td>1</td>\n",
       "      <td>74.033333</td>\n",
       "      <td>6</td>\n",
       "      <td>0.958584</td>\n",
       "      <td>0.918883</td>\n",
       "    </tr>\n",
       "    <tr>\n",
       "      <th>1</th>\n",
       "      <td>2</td>\n",
       "      <td>KD002</td>\n",
       "      <td>1</td>\n",
       "      <td>2003-03-18</td>\n",
       "      <td>2003</td>\n",
       "      <td>3</td>\n",
       "      <td>8</td>\n",
       "      <td>2</td>\n",
       "      <td>3</td>\n",
       "      <td>0</td>\n",
       "      <td>...</td>\n",
       "      <td>0</td>\n",
       "      <td>0</td>\n",
       "      <td>0</td>\n",
       "      <td>0</td>\n",
       "      <td>0</td>\n",
       "      <td>1</td>\n",
       "      <td>19.200000</td>\n",
       "      <td>1</td>\n",
       "      <td>-0.730244</td>\n",
       "      <td>0.533256</td>\n",
       "    </tr>\n",
       "    <tr>\n",
       "      <th>2</th>\n",
       "      <td>2</td>\n",
       "      <td>KD003</td>\n",
       "      <td>1</td>\n",
       "      <td>2009-01-09</td>\n",
       "      <td>2009</td>\n",
       "      <td>1</td>\n",
       "      <td>4</td>\n",
       "      <td>0</td>\n",
       "      <td>1</td>\n",
       "      <td>1</td>\n",
       "      <td>...</td>\n",
       "      <td>1</td>\n",
       "      <td>1</td>\n",
       "      <td>1</td>\n",
       "      <td>0</td>\n",
       "      <td>0</td>\n",
       "      <td>8</td>\n",
       "      <td>11.800000</td>\n",
       "      <td>0</td>\n",
       "      <td>-0.958159</td>\n",
       "      <td>0.918068</td>\n",
       "    </tr>\n",
       "    <tr>\n",
       "      <th>3</th>\n",
       "      <td>2</td>\n",
       "      <td>KD004a</td>\n",
       "      <td>1</td>\n",
       "      <td>2003-05-08</td>\n",
       "      <td>2003</td>\n",
       "      <td>5</td>\n",
       "      <td>3</td>\n",
       "      <td>0</td>\n",
       "      <td>2</td>\n",
       "      <td>1</td>\n",
       "      <td>...</td>\n",
       "      <td>0</td>\n",
       "      <td>0</td>\n",
       "      <td>0</td>\n",
       "      <td>0</td>\n",
       "      <td>0</td>\n",
       "      <td>0</td>\n",
       "      <td>17.733333</td>\n",
       "      <td>1</td>\n",
       "      <td>-0.775416</td>\n",
       "      <td>0.601270</td>\n",
       "    </tr>\n",
       "    <tr>\n",
       "      <th>4</th>\n",
       "      <td>2</td>\n",
       "      <td>KD005</td>\n",
       "      <td>1</td>\n",
       "      <td>1997-09-10</td>\n",
       "      <td>1997</td>\n",
       "      <td>9</td>\n",
       "      <td>4</td>\n",
       "      <td>0</td>\n",
       "      <td>1</td>\n",
       "      <td>2</td>\n",
       "      <td>...</td>\n",
       "      <td>0</td>\n",
       "      <td>0</td>\n",
       "      <td>0</td>\n",
       "      <td>0</td>\n",
       "      <td>0</td>\n",
       "      <td>2</td>\n",
       "      <td>79.033333</td>\n",
       "      <td>6</td>\n",
       "      <td>1.112580</td>\n",
       "      <td>1.237834</td>\n",
       "    </tr>\n",
       "  </tbody>\n",
       "</table>\n",
       "<p>5 rows × 42 columns</p>\n",
       "</div>"
      ],
      "text/plain": [
       "   Responder StudyID  sex        dob  year_dob  month_dob  race  KD_complete  \\\n",
       "0          2   KD001    0 2004-12-06      2004         12     0            1   \n",
       "1          2   KD002    1 2003-03-18      2003          3     8            2   \n",
       "2          2   KD003    1 2009-01-09      2009          1     4            0   \n",
       "3          2  KD004a    1 2003-05-08      2003          5     3            0   \n",
       "4          2   KD005    1 1997-09-10      1997          9     4            0   \n",
       "\n",
       "   Race2  ethnicity    ...     Ectasiaoraneurysm7  Ectasiaoraneurysm8  \\\n",
       "0      3          1    ...                      0                   0   \n",
       "1      3          0    ...                      0                   0   \n",
       "2      1          1    ...                      1                   1   \n",
       "3      2          1    ...                      0                   0   \n",
       "4      1          2    ...                      0                   0   \n",
       "\n",
       "   Ectasiaoraneurysm9  Ectasiaoraneurysm10  Ectasiaoraneurysm11  \\\n",
       "0                   0                    0                    0   \n",
       "1                   0                    0                    0   \n",
       "2                   1                    0                    0   \n",
       "3                   0                    0                    0   \n",
       "4                   0                    0                    0   \n",
       "\n",
       "   Totalectasia/aneurysm  age_months  age_years  age_norm  age_norm2  \n",
       "0                      1   74.033333          6  0.958584   0.918883  \n",
       "1                      1   19.200000          1 -0.730244   0.533256  \n",
       "2                      8   11.800000          0 -0.958159   0.918068  \n",
       "3                      0   17.733333          1 -0.775416   0.601270  \n",
       "4                      2   79.033333          6  1.112580   1.237834  \n",
       "\n",
       "[5 rows x 42 columns]"
      ]
     },
     "execution_count": 28,
     "metadata": {},
     "output_type": "execute_result"
    }
   ],
   "source": [
    "kawasaki_raw.head()"
   ]
  },
  {
   "cell_type": "markdown",
   "metadata": {},
   "source": [
    "Calculate age from admission year and birth year"
   ]
  },
  {
   "cell_type": "code",
   "execution_count": 4,
   "metadata": {
    "collapsed": false
   },
   "outputs": [
    {
     "data": {
      "text/plain": [
       "0    74.033333\n",
       "1    19.200000\n",
       "2    11.800000\n",
       "3    17.733333\n",
       "4    79.033333\n",
       "Name: age_months, dtype: float64"
      ]
     },
     "execution_count": 4,
     "metadata": {},
     "output_type": "execute_result"
    }
   ],
   "source": [
    "kawasaki_raw['age_months'] = (kawasaki_raw.Date_admission - kawasaki_raw.dob).dt.days/30.\n",
    "kawasaki_raw['age_months'].head()"
   ]
  },
  {
   "cell_type": "code",
   "execution_count": 5,
   "metadata": {
    "collapsed": false
   },
   "outputs": [],
   "source": [
    "kawasaki_raw['age_years'] = (kawasaki_raw.age_months/12.).astype(int)"
   ]
  },
  {
   "cell_type": "code",
   "execution_count": 6,
   "metadata": {
    "collapsed": false
   },
   "outputs": [],
   "source": [
    "kawasaki_raw['age_norm'] = ((kawasaki_raw.age_months - kawasaki_raw.age_months.mean())\n",
    "                            /kawasaki_raw.age_months.std())"
   ]
  },
  {
   "cell_type": "code",
   "execution_count": 7,
   "metadata": {
    "collapsed": true
   },
   "outputs": [],
   "source": [
    "kawasaki_raw['age_norm2'] = kawasaki_raw['age_norm']**2"
   ]
  },
  {
   "cell_type": "code",
   "execution_count": 8,
   "metadata": {
    "collapsed": false
   },
   "outputs": [],
   "source": [
    "relevant_cols = ['StudyID', 'Responder', 'sex', 'age_norm', 'age_norm2', 'age_years',\n",
    "                 'Race2', 'ethnicity', 'KD_complete', 'Tier']"
   ]
  },
  {
   "cell_type": "code",
   "execution_count": 9,
   "metadata": {
    "collapsed": false
   },
   "outputs": [
    {
     "data": {
      "text/html": [
       "<div>\n",
       "<table border=\"1\" class=\"dataframe\">\n",
       "  <thead>\n",
       "    <tr style=\"text-align: right;\">\n",
       "      <th></th>\n",
       "      <th>StudyID</th>\n",
       "      <th>male</th>\n",
       "      <th>age_norm</th>\n",
       "      <th>age_norm2</th>\n",
       "      <th>age_years</th>\n",
       "      <th>ethnicity</th>\n",
       "      <th>KD_complete</th>\n",
       "      <th>Tier</th>\n",
       "      <th>black</th>\n",
       "      <th>other</th>\n",
       "      <th>responder</th>\n",
       "    </tr>\n",
       "  </thead>\n",
       "  <tbody>\n",
       "    <tr>\n",
       "      <th>0</th>\n",
       "      <td>KD001</td>\n",
       "      <td>0</td>\n",
       "      <td>0.958584</td>\n",
       "      <td>0.918883</td>\n",
       "      <td>6</td>\n",
       "      <td>1</td>\n",
       "      <td>1</td>\n",
       "      <td>1</td>\n",
       "      <td>0</td>\n",
       "      <td>1</td>\n",
       "      <td>0</td>\n",
       "    </tr>\n",
       "    <tr>\n",
       "      <th>1</th>\n",
       "      <td>KD002</td>\n",
       "      <td>1</td>\n",
       "      <td>-0.730244</td>\n",
       "      <td>0.533256</td>\n",
       "      <td>1</td>\n",
       "      <td>0</td>\n",
       "      <td>2</td>\n",
       "      <td>1</td>\n",
       "      <td>0</td>\n",
       "      <td>1</td>\n",
       "      <td>0</td>\n",
       "    </tr>\n",
       "    <tr>\n",
       "      <th>2</th>\n",
       "      <td>KD003</td>\n",
       "      <td>1</td>\n",
       "      <td>-0.958159</td>\n",
       "      <td>0.918068</td>\n",
       "      <td>0</td>\n",
       "      <td>1</td>\n",
       "      <td>0</td>\n",
       "      <td>4</td>\n",
       "      <td>0</td>\n",
       "      <td>0</td>\n",
       "      <td>0</td>\n",
       "    </tr>\n",
       "    <tr>\n",
       "      <th>3</th>\n",
       "      <td>KD004a</td>\n",
       "      <td>1</td>\n",
       "      <td>-0.775416</td>\n",
       "      <td>0.601270</td>\n",
       "      <td>1</td>\n",
       "      <td>1</td>\n",
       "      <td>0</td>\n",
       "      <td>3</td>\n",
       "      <td>1</td>\n",
       "      <td>0</td>\n",
       "      <td>0</td>\n",
       "    </tr>\n",
       "    <tr>\n",
       "      <th>4</th>\n",
       "      <td>KD005</td>\n",
       "      <td>1</td>\n",
       "      <td>1.112580</td>\n",
       "      <td>1.237834</td>\n",
       "      <td>6</td>\n",
       "      <td>2</td>\n",
       "      <td>0</td>\n",
       "      <td>1</td>\n",
       "      <td>0</td>\n",
       "      <td>0</td>\n",
       "      <td>0</td>\n",
       "    </tr>\n",
       "  </tbody>\n",
       "</table>\n",
       "</div>"
      ],
      "text/plain": [
       "  StudyID  male  age_norm  age_norm2  age_years  ethnicity  KD_complete  Tier  \\\n",
       "0   KD001     0  0.958584   0.918883          6          1            1     1   \n",
       "1   KD002     1 -0.730244   0.533256          1          0            2     1   \n",
       "2   KD003     1 -0.958159   0.918068          0          1            0     4   \n",
       "3  KD004a     1 -0.775416   0.601270          1          1            0     3   \n",
       "4   KD005     1  1.112580   1.237834          6          2            0     1   \n",
       "\n",
       "   black  other  responder  \n",
       "0      0      1          0  \n",
       "1      0      1          0  \n",
       "2      0      0          0  \n",
       "3      1      0          0  \n",
       "4      0      0          0  "
      ]
     },
     "execution_count": 9,
     "metadata": {},
     "output_type": "execute_result"
    }
   ],
   "source": [
    "kawasaki_subset = (kawasaki_raw[relevant_cols]\n",
    "                           .rename(columns={'sex':'male'})\n",
    "                           .assign(responder=(kawasaki_raw.Responder==1).astype(int),\n",
    "                                  black=(kawasaki_raw.Race2==2).astype(int),\n",
    "                                  other=(kawasaki_raw.Race2==3).astype(int))\n",
    "                           .drop(['Responder', 'Race2'], axis=1))\n",
    "kawasaki_subset.head()"
   ]
  },
  {
   "cell_type": "code",
   "execution_count": 23,
   "metadata": {
    "collapsed": false
   },
   "outputs": [
    {
     "data": {
      "text/plain": [
       "black\n",
       "0    0.820290\n",
       "1    0.862385\n",
       "Name: responder, dtype: float64"
      ]
     },
     "execution_count": 23,
     "metadata": {},
     "output_type": "execute_result"
    }
   ],
   "source": [
    "kawasaki_subset.groupby('black').responder.mean()"
   ]
  },
  {
   "cell_type": "markdown",
   "metadata": {},
   "source": [
    "Probability of responder does not seem to vary with age. Wide variation at the end is mostly a sample size artefact."
   ]
  },
  {
   "cell_type": "code",
   "execution_count": 10,
   "metadata": {
    "collapsed": false
   },
   "outputs": [
    {
     "data": {
      "text/plain": [
       "[<matplotlib.lines.Line2D at 0x115491b00>]"
      ]
     },
     "execution_count": 10,
     "metadata": {},
     "output_type": "execute_result"
    },
    {
     "data": {
      "image/png": "[encoded data removed]",
      "text/plain": [
       "<matplotlib.figure.Figure at 0x11538e128>"
      ]
     },
     "metadata": {},
     "output_type": "display_data"
    }
   ],
   "source": [
    "ax = (kawasaki_subset[kawasaki_subset.age_years<10]\n",
    "              .assign(age_int=kawasaki_subset.age_years.astype(int))\n",
    "              .groupby('age_int')).responder.mean().plot()\n",
    "ax.set_xlabel('age')\n",
    "responders = kawasaki_subset[kawasaki_subset.responder==1]\n",
    "ax.plot(responders.age_years, np.random.normal(0.9, 0.005, size=len(responders)), \n",
    "        'go', alpha=0.3)\n",
    "\n",
    "nonresponders = kawasaki_subset[kawasaki_subset.responder==0]\n",
    "ax.plot(nonresponders.age_years, np.random.normal(0.6, 0.005, size=len(nonresponders)), \n",
    "        'ro', alpha=0.3)"
   ]
  },
  {
   "cell_type": "code",
   "execution_count": 11,
   "metadata": {
    "collapsed": false
   },
   "outputs": [
    {
     "data": {
      "text/plain": [
       "StudyID        0\n",
       "male           0\n",
       "age_norm       0\n",
       "age_norm2      0\n",
       "age_years      0\n",
       "ethnicity      0\n",
       "KD_complete    0\n",
       "Tier           0\n",
       "black          0\n",
       "other          0\n",
       "responder      0\n",
       "dtype: int64"
      ]
     },
     "execution_count": 11,
     "metadata": {},
     "output_type": "execute_result"
    }
   ],
   "source": [
    "kawasaki_subset.isnull().sum()"
   ]
  },
  {
   "cell_type": "markdown",
   "metadata": {},
   "source": [
    "## Model specification"
   ]
  },
  {
   "cell_type": "code",
   "execution_count": 12,
   "metadata": {
    "collapsed": true
   },
   "outputs": [],
   "source": [
    "def interpolate(x0,y0, x):\n",
    "    x = np.array(x)\n",
    "\n",
    "    idx = np.searchsorted(x0, x)\n",
    "    dl = np.array(x - x0[idx - 1])\n",
    "    dr = np.array(x0[idx] - x)\n",
    "    d=dl+dr\n",
    "    wl = dr/d\n",
    "\n",
    "    return wl*y0[idx-1] + (1-wl)*y0[idx]\n"
   ]
  },
  {
   "cell_type": "code",
   "execution_count": 13,
   "metadata": {
    "collapsed": false
   },
   "outputs": [
    {
     "name": "stderr",
     "output_type": "stream",
     "text": [
      "INFO (theano.gof.compilelock): Waiting for existing lock by process '48770' (I am process '50575')\n",
      "INFO (theano.gof.compilelock): To manually release the lock, delete /Users/fonnescj/.theano/compiledir_Darwin-15.5.0-x86_64-i386-64bit-i386-3.5.1-64/lock_dir\n"
     ]
    },
    {
     "name": "stdout",
     "output_type": "stream",
     "text": [
      "Applied log-transform to σ and added transformed σ_log_ to model.\n"
     ]
    }
   ],
   "source": [
    "import theano.tensor as tt\n",
    "GaussianRandomWalk = pm.distributions.timeseries.GaussianRandomWalk\n",
    "\n",
    "covs = ['male', 'black', 'other']\n",
    "k = len(covs)\n",
    "nknots = 7\n",
    "\n",
    "knots = np.linspace(kawasaki_subset.age_norm.min(), kawasaki_subset.age_norm.max(), nknots)\n",
    "\n",
    "with pm.Model() as model:\n",
    "    \n",
    "    # Baseline probability of response\n",
    "    θ = pm.Normal('θ', 0, sd=10)\n",
    "    # Coefficients for covariates\n",
    "    β = pm.Normal('β', 0, sd=10, shape=k)\n",
    "    \n",
    "    odds = pm.Deterministic('odds', tt.exp(β))\n",
    "    \n",
    "    # Age effect (non-linear)\n",
    "    σ = pm.HalfCauchy('σ', 2.5)\n",
    "    y = GaussianRandomWalk('y', sd=σ, shape=nknots)\n",
    "\n",
    "    α = pm.Deterministic('α', interpolate(knots, y, kawasaki_subset.age_norm))\n",
    "    \n",
    "    \n",
    "    # Probabilities\n",
    "    p_race_female = pm.Deterministic('p_race_female', pm.invlogit(θ))\n",
    "    p_race_male = pm.Deterministic('p_race_male', pm.invlogit(θ + β[1]))\n",
    "    p_race_black_female = pm.Deterministic('p_race_black_female', \n",
    "                                           pm.invlogit(θ + β[1]))\n",
    "    p_race_black_male = pm.Deterministic('p_race_black_male', \n",
    "                                         pm.invlogit(θ + β[0] + β[1]))\n",
    "        \n",
    "    π = pm.invlogit(θ + tt.dot(kawasaki_subset[covs].values, β)+ α*kawasaki_subset.age_norm.values)\n",
    "    \n",
    "    responder = pm.Bernoulli('responder', π, observed=kawasaki_subset.responder)\n",
    "    "
   ]
  },
  {
   "cell_type": "code",
   "execution_count": 14,
   "metadata": {
    "collapsed": false
   },
   "outputs": [
    {
     "name": "stdout",
     "output_type": "stream",
     "text": [
      "Iteration 0 [0%]: ELBO = -277.97\n",
      "Iteration 10000 [10%]: Average ELBO = -267.98\n",
      "Iteration 20000 [20%]: Average ELBO = -224.99\n",
      "Iteration 30000 [30%]: Average ELBO = -222.47\n",
      "Iteration 40000 [40%]: Average ELBO = -222.0\n",
      "Iteration 50000 [50%]: Average ELBO = -221.95\n",
      "Iteration 60000 [60%]: Average ELBO = -221.89\n",
      "Iteration 70000 [70%]: Average ELBO = -221.98\n",
      "Iteration 80000 [80%]: Average ELBO = -221.93\n",
      "Iteration 90000 [90%]: Average ELBO = -221.92\n",
      "Finished [100%]: Average ELBO = -221.91\n"
     ]
    }
   ],
   "source": [
    "with model:\n",
    "    \n",
    "    advi_fit = pm.variational.advi(n=100000)"
   ]
  },
  {
   "cell_type": "code",
   "execution_count": 17,
   "metadata": {
    "collapsed": true
   },
   "outputs": [],
   "source": [
    "iterations = 2000\n",
    "burn = 1000"
   ]
  },
  {
   "cell_type": "code",
   "execution_count": 19,
   "metadata": {
    "collapsed": false
   },
   "outputs": [
    {
     "name": "stdout",
     "output_type": "stream",
     "text": [
      "Assigned NUTS to θ\n",
      "Assigned NUTS to β\n",
      "Assigned NUTS to σ_log_\n",
      "Assigned NUTS to y\n",
      " [-----------------100%-----------------] 2000 of 2000 complete in 57.7 sec"
     ]
    }
   ],
   "source": [
    "with model:\n",
    "    \n",
    "    trace = pm.sample(iterations, start=advi_fit[0], njobs=2)"
   ]
  },
  {
   "cell_type": "markdown",
   "metadata": {},
   "source": [
    "Odds ratios for responder. Tabulated values below plot."
   ]
  },
  {
   "cell_type": "code",
   "execution_count": 20,
   "metadata": {
    "collapsed": false
   },
   "outputs": [
    {
     "data": {
      "text/plain": [
       "<matplotlib.gridspec.GridSpec at 0x11b8de5c0>"
      ]
     },
     "execution_count": 20,
     "metadata": {},
     "output_type": "execute_result"
    },
    {
     "data": {
      "image/png": "[encoded data removed]",
      "text/plain": [
       "<matplotlib.figure.Figure at 0x11b8de4e0>"
      ]
     },
     "metadata": {},
     "output_type": "display_data"
    }
   ],
   "source": [
    "pm.forestplot(trace[burn:], varnames=['odds'], ylabels=covs, vline=1, \n",
    "              main='Odds ratios of covariates')"
   ]
  },
  {
   "cell_type": "markdown",
   "metadata": {},
   "source": [
    "Age effect"
   ]
  },
  {
   "cell_type": "code",
   "execution_count": 21,
   "metadata": {
    "collapsed": false
   },
   "outputs": [
    {
     "data": {
      "text/plain": [
       "<matplotlib.gridspec.GridSpec at 0x11c8fa320>"
      ]
     },
     "execution_count": 21,
     "metadata": {},
     "output_type": "execute_result"
    },
    {
     "data": {
      "image/png": "[encoded data removed]",
      "text/plain": [
       "<matplotlib.figure.Figure at 0x11b8de6d8>"
      ]
     },
     "metadata": {},
     "output_type": "display_data"
    }
   ],
   "source": [
    "pm.forestplot(trace[burn:], varnames=['y'])"
   ]
  },
  {
   "cell_type": "code",
   "execution_count": 22,
   "metadata": {
    "collapsed": false
   },
   "outputs": [
    {
     "name": "stdout",
     "output_type": "stream",
     "text": [
      "\n",
      "odds:\n",
      "\n",
      "  Mean             SD               MC Error         95% HPD interval\n",
      "  -------------------------------------------------------------------\n",
      "  \n",
      "  0.552            0.175            0.009            [0.246, 0.898]\n",
      "  1.260            0.441            0.015            [0.569, 2.203]\n",
      "  0.422            0.168            0.006            [0.168, 0.780]\n",
      "\n",
      "  Posterior quantiles:\n",
      "  2.5            25             50             75             97.5\n",
      "  |--------------|==============|==============|--------------|\n",
      "  \n",
      "  0.277          0.432          0.528          0.648          0.967\n",
      "  0.634          0.945          1.179          1.498          2.370\n",
      "  0.192          0.307          0.393          0.498          0.857\n",
      "\n"
     ]
    }
   ],
   "source": [
    "pm.summary(trace[burn:], varnames=['odds'])"
   ]
  }
 ],
 "metadata": {
  "kernelspec": {
   "display_name": "Python 3",
   "language": "python",
   "name": "python3"
  },
  "language_info": {
   "codemirror_mode": {
    "name": "ipython",
    "version": 3
   },
   "file_extension": ".py",
   "mimetype": "text/x-python",
   "name": "python",
   "nbconvert_exporter": "python",
   "pygments_lexer": "ipython3",
   "version": "3.5.1"
  }
 },
 "nbformat": 4,
 "nbformat_minor": 1
}
