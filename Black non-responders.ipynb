{
 "cells": [
  {
   "cell_type": "code",
   "execution_count": 1,
   "metadata": {
    "collapsed": true
   },
   "outputs": [],
   "source": [
    "%matplotlib inline\n",
    "from redcap import Project\n",
    "import numpy as np\n",
    "import pandas as pd\n",
    "import seaborn as sns\n",
    "import matplotlib.pylab as plt\n",
    "sns.set_context('notebook')"
   ]
  },
  {
   "cell_type": "code",
   "execution_count": 39,
   "metadata": {
    "collapsed": false
   },
   "outputs": [],
   "source": [
    "api_url = 'https://redcap.vanderbilt.edu/api/'\n",
    "\n",
    "hospitalized_key = open(\"token.txt\").read()\n",
    "hospitalized_proj = Project(api_url, hospitalized_key)\n",
    "hospitalized_raw = hospitalized_proj.export_records(format='df', \n",
    "                            df_kwargs={'index_col': hospitalized_proj.field_names[0]})"
   ]
  },
  {
   "cell_type": "code",
   "execution_count": 49,
   "metadata": {
    "collapsed": false
   },
   "outputs": [],
   "source": [
    "black_subset = hospitalized_raw[hospitalized_raw.race==3].copy()"
   ]
  },
  {
   "cell_type": "code",
   "execution_count": 69,
   "metadata": {
    "collapsed": false
   },
   "outputs": [],
   "source": [
    "black_subset['response'] = None\n",
    "black_subset.loc[black_subset.therapy_response___0==1, 'response'] = 1\n",
    "black_subset.loc[black_subset.therapy_response___1==1, 'response'] = 0\n",
    "black_subset.response = black_subset.response.astype(float)"
   ]
  },
  {
   "cell_type": "code",
   "execution_count": 70,
   "metadata": {
    "collapsed": false
   },
   "outputs": [
    {
     "data": {
      "text/plain": [
       "1    63\n",
       "0    24\n",
       "Name: response, dtype: int64"
      ]
     },
     "execution_count": 70,
     "metadata": {},
     "output_type": "execute_result"
    }
   ],
   "source": [
    "black_subset.response.value_counts()"
   ]
  },
  {
   "cell_type": "code",
   "execution_count": 92,
   "metadata": {
    "collapsed": false
   },
   "outputs": [
    {
     "data": {
      "text/plain": [
       "Index([u'therapy_response___0', u'therapy_response___1',\n",
       "       u'therapy_response___3', u'therapy_response___4',\n",
       "       u'therapy_response_notes'],\n",
       "      dtype='object')"
      ]
     },
     "execution_count": 92,
     "metadata": {},
     "output_type": "execute_result"
    }
   ],
   "source": [
    "black_subset.columns[black_subset.columns.str.startswith('therapy_response')]"
   ]
  },
  {
   "cell_type": "code",
   "execution_count": 103,
   "metadata": {
    "collapsed": false
   },
   "outputs": [],
   "source": [
    "response_cols = black_subset.columns[black_subset.columns.str.startswith('therapy_response')]\n",
    "meaningless_cols = ['mrn', 'mrn_and_treatment_date']\n",
    "drop_cols = np.append(response_cols.values, meaningless_cols)\n",
    "\n",
    "black_subset = black_subset.dropna(subset=['response']).drop(drop_cols, axis=1)"
   ]
  },
  {
   "cell_type": "code",
   "execution_count": 104,
   "metadata": {
    "collapsed": false
   },
   "outputs": [],
   "source": [
    "black_subset_low_missing = black_subset.loc[:, (black_subset.isnull().sum(0) < 5) & (black_subset.dtypes != object)]\n",
    "black_subset_complete = black_subset_low_missing.apply(lambda x: x.fillna(x.mean()))"
   ]
  },
  {
   "cell_type": "code",
   "execution_count": 105,
   "metadata": {
    "collapsed": false
   },
   "outputs": [
    {
     "data": {
      "text/plain": [
       "(87, 161)"
      ]
     },
     "execution_count": 105,
     "metadata": {},
     "output_type": "execute_result"
    }
   ],
   "source": [
    "black_subset_complete.shape"
   ]
  },
  {
   "cell_type": "code",
   "execution_count": 106,
   "metadata": {
    "collapsed": false
   },
   "outputs": [],
   "source": [
    "from sklearn import preprocessing\n",
    "\n",
    "X = black_subset_complete.copy()\n",
    "y = X.pop('response')\n",
    "\n",
    "X_scaled = preprocessing.scale(X)"
   ]
  },
  {
   "cell_type": "code",
   "execution_count": 125,
   "metadata": {
    "collapsed": false
   },
   "outputs": [],
   "source": [
    "from sklearn.preprocessing._weights import _balance_weights\n",
    "\n",
    "w = _balance_weights(y)"
   ]
  },
  {
   "cell_type": "code",
   "execution_count": 130,
   "metadata": {
    "collapsed": false
   },
   "outputs": [
    {
     "data": {
      "text/plain": [
       "1    63\n",
       "0    24\n",
       "Name: response, dtype: int64"
      ]
     },
     "execution_count": 130,
     "metadata": {},
     "output_type": "execute_result"
    }
   ],
   "source": [
    "black_subset.response.value_counts()"
   ]
  },
  {
   "cell_type": "code",
   "execution_count": 141,
   "metadata": {
    "collapsed": true
   },
   "outputs": [],
   "source": [
    "from sklearn import cross_validation\n",
    "\n",
    "X_train, X_test, y_train, y_test = cross_validation.train_test_split(\n",
    "        X_scaled, y, test_size=0.4, random_state=0)"
   ]
  },
  {
   "cell_type": "code",
   "execution_count": 142,
   "metadata": {
    "collapsed": false
   },
   "outputs": [
    {
     "data": {
      "text/html": [
       "<div>\n",
       "<table border=\"1\" class=\"dataframe\">\n",
       "  <thead>\n",
       "    <tr style=\"text-align: right;\">\n",
       "      <th>prediction</th>\n",
       "      <th>0.0</th>\n",
       "      <th>1.0</th>\n",
       "    </tr>\n",
       "    <tr>\n",
       "      <th>actual</th>\n",
       "      <th></th>\n",
       "      <th></th>\n",
       "    </tr>\n",
       "  </thead>\n",
       "  <tbody>\n",
       "    <tr>\n",
       "      <th>0</th>\n",
       "      <td>7</td>\n",
       "      <td>2</td>\n",
       "    </tr>\n",
       "    <tr>\n",
       "      <th>1</th>\n",
       "      <td>0</td>\n",
       "      <td>26</td>\n",
       "    </tr>\n",
       "  </tbody>\n",
       "</table>\n",
       "</div>"
      ],
      "text/plain": [
       "prediction  0   1\n",
       "actual           \n",
       "0           7   2\n",
       "1           0  26"
      ]
     },
     "execution_count": 142,
     "metadata": {},
     "output_type": "execute_result"
    }
   ],
   "source": [
    "from sklearn.ensemble import RandomForestClassifier\n",
    "\n",
    "rf = RandomForestClassifier(n_jobs=4,\n",
    "                            oob_score=True,\n",
    "                            class_weight={0:w.min(), 1:w.max()})\n",
    "rf.fit(X_train, y_train)\n",
    "\n",
    "preds = rf.predict(X_test)\n",
    "pd.crosstab(y_test, preds, rownames=['actual'], \n",
    "            colnames=['prediction'])"
   ]
  },
  {
   "cell_type": "code",
   "execution_count": 143,
   "metadata": {
    "collapsed": false
   },
   "outputs": [
    {
     "name": "stderr",
     "output_type": "stream",
     "text": [
      "/Users/fonnescj/anaconda3/envs/py2/lib/python2.7/site-packages/ipykernel/__main__.py:2: FutureWarning: sort is deprecated, use sort_values(inplace=True) for for INPLACE sorting\n",
      "  from ipykernel import kernelapp as app\n"
     ]
    },
    {
     "data": {
      "text/plain": [
       "kd_therapy___1                    0.402378\n",
       "hd_num_days                       0.145434\n",
       "illness_day_at_rx                 0.069734\n",
       "num_echo_post_eval                0.051949\n",
       "echo_2_specify___7                0.032730\n",
       "echo_5_specify___1                0.028004\n",
       "echo_7_specify___2                0.026014\n",
       "type_of_subsequent_diagnos___2    0.020925\n",
       "echo_3_specify___5                0.019978\n",
       "lab_criteria___4                  0.017576\n",
       "classification                    0.017312\n",
       "abnormality___9                   0.016846\n",
       "lab_criteria___1                  0.013117\n",
       "kd_therapy___9                    0.013073\n",
       "results_echo_1                    0.010863\n",
       "lab_criteria___3                  0.010730\n",
       "echo_2_result                     0.010576\n",
       "abnormality___7                   0.010114\n",
       "echo_9_specify___2                0.008757\n",
       "ethnicity                         0.008511\n",
       "echo_2_specify___3                0.007915\n",
       "kd_therapy___2                    0.007193\n",
       "type_of_subsequent_diagnos___1    0.006885\n",
       "clinical_criteria___5             0.006800\n",
       "abnormality___4                   0.006453\n",
       "dtype: float64"
      ]
     },
     "execution_count": 143,
     "metadata": {},
     "output_type": "execute_result"
    }
   ],
   "source": [
    "importance = pd.Series(rf.feature_importances_, index=X.columns)\n",
    "importance.sort(ascending=False)\n",
    "importance[:25]"
   ]
  },
  {
   "cell_type": "code",
   "execution_count": null,
   "metadata": {
    "collapsed": true
   },
   "outputs": [],
   "source": []
  }
 ],
 "metadata": {
  "kernelspec": {
   "display_name": "Python 2",
   "language": "python",
   "name": "python2"
  },
  "language_info": {
   "codemirror_mode": {
    "name": "ipython",
    "version": 2
   },
   "file_extension": ".py",
   "mimetype": "text/x-python",
   "name": "python",
   "nbconvert_exporter": "python",
   "pygments_lexer": "ipython2",
   "version": "2.7.10"
  }
 },
 "nbformat": 4,
 "nbformat_minor": 0
}
