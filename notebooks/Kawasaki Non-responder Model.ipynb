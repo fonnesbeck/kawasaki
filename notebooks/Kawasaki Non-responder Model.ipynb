{
 "cells": [
  {
   "cell_type": "code",
   "execution_count": 1,
   "metadata": {
    "collapsed": true
   },
   "outputs": [],
   "source": [
    "%matplotlib inline\n",
    "import numpy as np\n",
    "import pandas as pd\n",
    "import pymc3 as pm\n",
    "import seaborn as sns\n",
    "import matplotlib.pylab as plt"
   ]
  },
  {
   "cell_type": "markdown",
   "metadata": {},
   "source": [
    "## Import and clean data"
   ]
  },
  {
   "cell_type": "code",
   "execution_count": 2,
   "metadata": {},
   "outputs": [
    {
     "data": {
      "text/html": [
       "<div>\n",
       "<table border=\"1\" class=\"dataframe\">\n",
       "  <thead>\n",
       "    <tr style=\"text-align: right;\">\n",
       "      <th></th>\n",
       "      <th>mrn</th>\n",
       "      <th>patient_initials</th>\n",
       "      <th>sex</th>\n",
       "      <th>dob</th>\n",
       "      <th>age_days</th>\n",
       "      <th>age_months</th>\n",
       "      <th>age_years</th>\n",
       "      <th>race</th>\n",
       "      <th>race_specify</th>\n",
       "      <th>ethnicity</th>\n",
       "      <th>...</th>\n",
       "      <th>echo2_criteria_level</th>\n",
       "      <th>ectasia_aneurysm3</th>\n",
       "      <th>lad_rad3</th>\n",
       "      <th>echo3_criteria_level</th>\n",
       "      <th>echopositive</th>\n",
       "      <th>kdlevel</th>\n",
       "      <th>kdclass</th>\n",
       "      <th>age_group</th>\n",
       "      <th>black</th>\n",
       "      <th>kd</th>\n",
       "    </tr>\n",
       "    <tr>\n",
       "      <th>study_id</th>\n",
       "      <th></th>\n",
       "      <th></th>\n",
       "      <th></th>\n",
       "      <th></th>\n",
       "      <th></th>\n",
       "      <th></th>\n",
       "      <th></th>\n",
       "      <th></th>\n",
       "      <th></th>\n",
       "      <th></th>\n",
       "      <th></th>\n",
       "      <th></th>\n",
       "      <th></th>\n",
       "      <th></th>\n",
       "      <th></th>\n",
       "      <th></th>\n",
       "      <th></th>\n",
       "      <th></th>\n",
       "      <th></th>\n",
       "      <th></th>\n",
       "      <th></th>\n",
       "    </tr>\n",
       "  </thead>\n",
       "  <tbody>\n",
       "    <tr>\n",
       "      <th>KD001</th>\n",
       "      <td>23640436</td>\n",
       "      <td>SA</td>\n",
       "      <td>0</td>\n",
       "      <td>2004-12-06</td>\n",
       "      <td>2221</td>\n",
       "      <td>72</td>\n",
       "      <td>6</td>\n",
       "      <td>0</td>\n",
       "      <td>NaN</td>\n",
       "      <td>1</td>\n",
       "      <td>...</td>\n",
       "      <td>0</td>\n",
       "      <td>0</td>\n",
       "      <td>0</td>\n",
       "      <td>0</td>\n",
       "      <td>1</td>\n",
       "      <td>5</td>\n",
       "      <td>2</td>\n",
       "      <td>3</td>\n",
       "      <td>0</td>\n",
       "      <td>1</td>\n",
       "    </tr>\n",
       "    <tr>\n",
       "      <th>KD003</th>\n",
       "      <td>30914774</td>\n",
       "      <td>OB</td>\n",
       "      <td>1</td>\n",
       "      <td>2009-01-09</td>\n",
       "      <td>354</td>\n",
       "      <td>11</td>\n",
       "      <td>0</td>\n",
       "      <td>4</td>\n",
       "      <td>NaN</td>\n",
       "      <td>1</td>\n",
       "      <td>...</td>\n",
       "      <td>1</td>\n",
       "      <td>1</td>\n",
       "      <td>0</td>\n",
       "      <td>0</td>\n",
       "      <td>1</td>\n",
       "      <td>1</td>\n",
       "      <td>1</td>\n",
       "      <td>2</td>\n",
       "      <td>0</td>\n",
       "      <td>1</td>\n",
       "    </tr>\n",
       "    <tr>\n",
       "      <th>KD004a</th>\n",
       "      <td>21827407</td>\n",
       "      <td>JB</td>\n",
       "      <td>1</td>\n",
       "      <td>2003-05-08</td>\n",
       "      <td>532</td>\n",
       "      <td>17</td>\n",
       "      <td>1</td>\n",
       "      <td>3</td>\n",
       "      <td>NaN</td>\n",
       "      <td>1</td>\n",
       "      <td>...</td>\n",
       "      <td>0</td>\n",
       "      <td>0</td>\n",
       "      <td>0</td>\n",
       "      <td>0</td>\n",
       "      <td>1</td>\n",
       "      <td>1</td>\n",
       "      <td>1</td>\n",
       "      <td>2</td>\n",
       "      <td>1</td>\n",
       "      <td>1</td>\n",
       "    </tr>\n",
       "    <tr>\n",
       "      <th>KD005</th>\n",
       "      <td>16903700</td>\n",
       "      <td>AB</td>\n",
       "      <td>1</td>\n",
       "      <td>1997-09-10</td>\n",
       "      <td>2371</td>\n",
       "      <td>77</td>\n",
       "      <td>6</td>\n",
       "      <td>4</td>\n",
       "      <td>NaN</td>\n",
       "      <td>2</td>\n",
       "      <td>...</td>\n",
       "      <td>0</td>\n",
       "      <td>0</td>\n",
       "      <td>0</td>\n",
       "      <td>0</td>\n",
       "      <td>1</td>\n",
       "      <td>1</td>\n",
       "      <td>1</td>\n",
       "      <td>3</td>\n",
       "      <td>0</td>\n",
       "      <td>1</td>\n",
       "    </tr>\n",
       "    <tr>\n",
       "      <th>KD006</th>\n",
       "      <td>25177965</td>\n",
       "      <td>GB</td>\n",
       "      <td>1</td>\n",
       "      <td>2005-01-20</td>\n",
       "      <td>413</td>\n",
       "      <td>13</td>\n",
       "      <td>1</td>\n",
       "      <td>4</td>\n",
       "      <td>NaN</td>\n",
       "      <td>2</td>\n",
       "      <td>...</td>\n",
       "      <td>0</td>\n",
       "      <td>0</td>\n",
       "      <td>0</td>\n",
       "      <td>0</td>\n",
       "      <td>0</td>\n",
       "      <td>1</td>\n",
       "      <td>1</td>\n",
       "      <td>2</td>\n",
       "      <td>0</td>\n",
       "      <td>1</td>\n",
       "    </tr>\n",
       "  </tbody>\n",
       "</table>\n",
       "<p>5 rows × 342 columns</p>\n",
       "</div>"
      ],
      "text/plain": [
       "               mrn patient_initials  sex        dob  age_days  age_months  \\\n",
       "study_id                                                                    \n",
       "KD001     23640436               SA    0 2004-12-06      2221          72   \n",
       "KD003     30914774               OB    1 2009-01-09       354          11   \n",
       "KD004a    21827407               JB    1 2003-05-08       532          17   \n",
       "KD005     16903700               AB    1 1997-09-10      2371          77   \n",
       "KD006     25177965               GB    1 2005-01-20       413          13   \n",
       "\n",
       "          age_years  race race_specify  ethnicity ... echo2_criteria_level  \\\n",
       "study_id                                          ...                        \n",
       "KD001             6     0          NaN          1 ...                    0   \n",
       "KD003             0     4          NaN          1 ...                    1   \n",
       "KD004a            1     3          NaN          1 ...                    0   \n",
       "KD005             6     4          NaN          2 ...                    0   \n",
       "KD006             1     4          NaN          2 ...                    0   \n",
       "\n",
       "          ectasia_aneurysm3 lad_rad3  echo3_criteria_level  echopositive  \\\n",
       "study_id                                                                   \n",
       "KD001                     0        0                     0             1   \n",
       "KD003                     1        0                     0             1   \n",
       "KD004a                    0        0                     0             1   \n",
       "KD005                     0        0                     0             1   \n",
       "KD006                     0        0                     0             0   \n",
       "\n",
       "          kdlevel kdclass age_group  black  kd  \n",
       "study_id                                        \n",
       "KD001           5       2         3      0   1  \n",
       "KD003           1       1         2      0   1  \n",
       "KD004a          1       1         2      1   1  \n",
       "KD005           1       1         3      0   1  \n",
       "KD006           1       1         2      0   1  \n",
       "\n",
       "[5 rows x 342 columns]"
      ]
     },
     "execution_count": 2,
     "metadata": {},
     "output_type": "execute_result"
    }
   ],
   "source": [
    "kawasaki_raw = pd.read_csv('data/Kawasaki Data v04.05.2017.csv', \n",
    "                           parse_dates=['dob', 'date_admission', 'date_discharge'], \n",
    "                           index_col=0)\n",
    "kawasaki_raw.head()"
   ]
  },
  {
   "cell_type": "code",
   "execution_count": 3,
   "metadata": {
    "collapsed": true
   },
   "outputs": [],
   "source": [
    "assert kawasaki_raw.index.is_unique"
   ]
  },
  {
   "cell_type": "code",
   "execution_count": 4,
   "metadata": {
    "collapsed": true
   },
   "outputs": [],
   "source": [
    "race_lookup = {0: \"American Indian/Alaska Native\",   \n",
    "1: \"Asian\",     \n",
    "2: \"Native Hawaiian or Other Paci c Islander\",    \n",
    "3: \"Black or African American\",    \n",
    "4: \"White\",    \n",
    "5: \"More Than One Race\",    \n",
    "6: \"Unknown / Not Reported\",    \n",
    "7: \"Declined\",   \n",
    "8: \"Hispanic\",      \n",
    "9: \"Other\"}"
   ]
  },
  {
   "cell_type": "code",
   "execution_count": 5,
   "metadata": {},
   "outputs": [
    {
     "data": {
      "text/plain": [
       "Race\n",
       "American Indian/Alaska Native      2\n",
       "Asian                             20\n",
       "Black or African American        109\n",
       "More Than One Race                 3\n",
       "Other                             17\n",
       "White                            299\n",
       "dtype: int64"
      ]
     },
     "execution_count": 5,
     "metadata": {},
     "output_type": "execute_result"
    }
   ],
   "source": [
    "kawasaki_raw.assign(Race=kawasaki_raw.race.replace(race_lookup)).groupby('Race').size()"
   ]
  },
  {
   "cell_type": "code",
   "execution_count": 6,
   "metadata": {},
   "outputs": [
    {
     "data": {
      "text/plain": [
       "1    372\n",
       "0     78\n",
       "Name: therapy_responder, dtype: int64"
      ]
     },
     "execution_count": 6,
     "metadata": {},
     "output_type": "execute_result"
    }
   ],
   "source": [
    "kawasaki_raw.therapy_responder.value_counts()"
   ]
  },
  {
   "cell_type": "code",
   "execution_count": 7,
   "metadata": {},
   "outputs": [
    {
     "data": {
      "text/plain": [
       "Race\n",
       "American Indian/Alaska Native    1.00\n",
       "Asian                            0.90\n",
       "Black or African American        0.75\n",
       "More Than One Race               1.00\n",
       "Other                            0.94\n",
       "White                            0.84\n",
       "Name: therapy_responder, dtype: float64"
      ]
     },
     "execution_count": 7,
     "metadata": {},
     "output_type": "execute_result"
    }
   ],
   "source": [
    "kawasaki_raw.assign(Race=kawasaki_raw.race.replace(race_lookup)).groupby('Race').therapy_responder.mean().round(2)"
   ]
  },
  {
   "cell_type": "markdown",
   "metadata": {},
   "source": [
    "Calculate age from admission year and birth year"
   ]
  },
  {
   "cell_type": "code",
   "execution_count": 8,
   "metadata": {},
   "outputs": [
    {
     "data": {
      "text/plain": [
       "study_id\n",
       "KD001     74.033333\n",
       "KD003     11.800000\n",
       "KD004a    17.733333\n",
       "KD005     79.033333\n",
       "KD006     13.766667\n",
       "Name: age_months, dtype: float64"
      ]
     },
     "execution_count": 8,
     "metadata": {},
     "output_type": "execute_result"
    }
   ],
   "source": [
    "kawasaki_raw['age_months'] = (kawasaki_raw.date_admission - kawasaki_raw.dob).dt.days/30.\n",
    "kawasaki_raw['age_months'].head()"
   ]
  },
  {
   "cell_type": "code",
   "execution_count": 9,
   "metadata": {
    "collapsed": true
   },
   "outputs": [],
   "source": [
    "kawasaki_raw['age_years'] = (kawasaki_raw.age_months/12.).astype(int)"
   ]
  },
  {
   "cell_type": "code",
   "execution_count": 10,
   "metadata": {
    "collapsed": true
   },
   "outputs": [],
   "source": [
    "kawasaki_raw['age_norm'] = ((kawasaki_raw.age_months - kawasaki_raw.age_months.mean())\n",
    "                            /kawasaki_raw.age_months.std())"
   ]
  },
  {
   "cell_type": "code",
   "execution_count": 11,
   "metadata": {
    "collapsed": true
   },
   "outputs": [],
   "source": [
    "kawasaki_raw['age_norm2'] = kawasaki_raw['age_norm']**2"
   ]
  },
  {
   "cell_type": "code",
   "execution_count": 12,
   "metadata": {
    "collapsed": true
   },
   "outputs": [],
   "source": [
    "kawasaki_raw['other_race'] = (~kawasaki_raw.race.isin([3,4])).astype(int)"
   ]
  },
  {
   "cell_type": "markdown",
   "metadata": {},
   "source": [
    "Potential covariates: hemoglobin, albumin, platelets, esr, crp, white count, alt, days of fever/days of illness, ast, sodium"
   ]
  },
  {
   "cell_type": "code",
   "execution_count": 13,
   "metadata": {
    "collapsed": true
   },
   "outputs": [],
   "source": [
    "relevant_cols = ['therapy_responder', 'sex', 'age_norm', 'age_norm2', 'age_years',\n",
    "                 'black', 'other_race', 'ethnicity', 'completekd', 'hgb', 'albumin', \n",
    "                 'esr_mm_hr', 'plts', 'crp_mg_l', 'wbc', 'ast', 'illness_day_at_rx']"
   ]
  },
  {
   "cell_type": "code",
   "execution_count": 14,
   "metadata": {},
   "outputs": [
    {
     "data": {
      "text/html": [
       "<div>\n",
       "<table border=\"1\" class=\"dataframe\">\n",
       "  <thead>\n",
       "    <tr style=\"text-align: right;\">\n",
       "      <th></th>\n",
       "      <th>therapy_responder</th>\n",
       "      <th>male</th>\n",
       "      <th>age_norm</th>\n",
       "      <th>age_norm2</th>\n",
       "      <th>age_years</th>\n",
       "      <th>black</th>\n",
       "      <th>other_race</th>\n",
       "      <th>ethnicity</th>\n",
       "      <th>completekd</th>\n",
       "      <th>hgb</th>\n",
       "      <th>albumin</th>\n",
       "      <th>esr_mm_hr</th>\n",
       "      <th>plts</th>\n",
       "      <th>crp_mg_l</th>\n",
       "      <th>wbc</th>\n",
       "      <th>ast</th>\n",
       "      <th>illness_day_at_rx</th>\n",
       "      <th>non_responder</th>\n",
       "    </tr>\n",
       "    <tr>\n",
       "      <th>study_id</th>\n",
       "      <th></th>\n",
       "      <th></th>\n",
       "      <th></th>\n",
       "      <th></th>\n",
       "      <th></th>\n",
       "      <th></th>\n",
       "      <th></th>\n",
       "      <th></th>\n",
       "      <th></th>\n",
       "      <th></th>\n",
       "      <th></th>\n",
       "      <th></th>\n",
       "      <th></th>\n",
       "      <th></th>\n",
       "      <th></th>\n",
       "      <th></th>\n",
       "      <th></th>\n",
       "      <th></th>\n",
       "    </tr>\n",
       "  </thead>\n",
       "  <tbody>\n",
       "    <tr>\n",
       "      <th>KD001</th>\n",
       "      <td>1</td>\n",
       "      <td>0</td>\n",
       "      <td>0.960899</td>\n",
       "      <td>0.923326</td>\n",
       "      <td>6</td>\n",
       "      <td>0</td>\n",
       "      <td>1</td>\n",
       "      <td>1</td>\n",
       "      <td>0</td>\n",
       "      <td>11.4</td>\n",
       "      <td>3.0</td>\n",
       "      <td>NaN</td>\n",
       "      <td>209.0</td>\n",
       "      <td>24.000000</td>\n",
       "      <td>3.700000</td>\n",
       "      <td>68.0</td>\n",
       "      <td>6</td>\n",
       "      <td>0</td>\n",
       "    </tr>\n",
       "    <tr>\n",
       "      <th>KD003</th>\n",
       "      <td>0</td>\n",
       "      <td>1</td>\n",
       "      <td>-0.958262</td>\n",
       "      <td>0.918267</td>\n",
       "      <td>0</td>\n",
       "      <td>0</td>\n",
       "      <td>0</td>\n",
       "      <td>1</td>\n",
       "      <td>1</td>\n",
       "      <td>7.7</td>\n",
       "      <td>2.1</td>\n",
       "      <td>98.0</td>\n",
       "      <td>188.0</td>\n",
       "      <td>241.100010</td>\n",
       "      <td>7.300000</td>\n",
       "      <td>29.0</td>\n",
       "      <td>6</td>\n",
       "      <td>1</td>\n",
       "    </tr>\n",
       "    <tr>\n",
       "      <th>KD004a</th>\n",
       "      <td>0</td>\n",
       "      <td>1</td>\n",
       "      <td>-0.775289</td>\n",
       "      <td>0.601074</td>\n",
       "      <td>1</td>\n",
       "      <td>1</td>\n",
       "      <td>0</td>\n",
       "      <td>1</td>\n",
       "      <td>1</td>\n",
       "      <td>11.1</td>\n",
       "      <td>NaN</td>\n",
       "      <td>22.0</td>\n",
       "      <td>332.0</td>\n",
       "      <td>NaN</td>\n",
       "      <td>19.500000</td>\n",
       "      <td>NaN</td>\n",
       "      <td>3</td>\n",
       "      <td>1</td>\n",
       "    </tr>\n",
       "    <tr>\n",
       "      <th>KD005</th>\n",
       "      <td>1</td>\n",
       "      <td>1</td>\n",
       "      <td>1.115089</td>\n",
       "      <td>1.243424</td>\n",
       "      <td>6</td>\n",
       "      <td>0</td>\n",
       "      <td>0</td>\n",
       "      <td>2</td>\n",
       "      <td>1</td>\n",
       "      <td>14.1</td>\n",
       "      <td>3.3</td>\n",
       "      <td>65.0</td>\n",
       "      <td>281.0</td>\n",
       "      <td>192.000000</td>\n",
       "      <td>22.799999</td>\n",
       "      <td>43.0</td>\n",
       "      <td>8</td>\n",
       "      <td>0</td>\n",
       "    </tr>\n",
       "    <tr>\n",
       "      <th>KD006</th>\n",
       "      <td>1</td>\n",
       "      <td>1</td>\n",
       "      <td>-0.897614</td>\n",
       "      <td>0.805711</td>\n",
       "      <td>1</td>\n",
       "      <td>0</td>\n",
       "      <td>0</td>\n",
       "      <td>2</td>\n",
       "      <td>1</td>\n",
       "      <td>10.0</td>\n",
       "      <td>3.5</td>\n",
       "      <td>62.0</td>\n",
       "      <td>507.0</td>\n",
       "      <td>48.099998</td>\n",
       "      <td>27.000000</td>\n",
       "      <td>31.0</td>\n",
       "      <td>9</td>\n",
       "      <td>0</td>\n",
       "    </tr>\n",
       "  </tbody>\n",
       "</table>\n",
       "</div>"
      ],
      "text/plain": [
       "          therapy_responder  male  age_norm  age_norm2  age_years  black  \\\n",
       "study_id                                                                   \n",
       "KD001                     1     0  0.960899   0.923326          6      0   \n",
       "KD003                     0     1 -0.958262   0.918267          0      0   \n",
       "KD004a                    0     1 -0.775289   0.601074          1      1   \n",
       "KD005                     1     1  1.115089   1.243424          6      0   \n",
       "KD006                     1     1 -0.897614   0.805711          1      0   \n",
       "\n",
       "          other_race  ethnicity  completekd   hgb  albumin  esr_mm_hr   plts  \\\n",
       "study_id                                                                       \n",
       "KD001              1          1           0  11.4      3.0        NaN  209.0   \n",
       "KD003              0          1           1   7.7      2.1       98.0  188.0   \n",
       "KD004a             0          1           1  11.1      NaN       22.0  332.0   \n",
       "KD005              0          2           1  14.1      3.3       65.0  281.0   \n",
       "KD006              0          2           1  10.0      3.5       62.0  507.0   \n",
       "\n",
       "            crp_mg_l        wbc   ast  illness_day_at_rx  non_responder  \n",
       "study_id                                                                 \n",
       "KD001      24.000000   3.700000  68.0                  6              0  \n",
       "KD003     241.100010   7.300000  29.0                  6              1  \n",
       "KD004a           NaN  19.500000   NaN                  3              1  \n",
       "KD005     192.000000  22.799999  43.0                  8              0  \n",
       "KD006      48.099998  27.000000  31.0                  9              0  "
      ]
     },
     "execution_count": 14,
     "metadata": {},
     "output_type": "execute_result"
    }
   ],
   "source": [
    "kawasaki_subset = (kawasaki_raw.loc[kawasaki_raw.kdclass!=3, relevant_cols]\n",
    "                           .rename(columns={'sex':'male'})\n",
    "                           .assign(non_responder=(kawasaki_raw.therapy_responder==0).astype(int)))\n",
    "kawasaki_subset.head()"
   ]
  },
  {
   "cell_type": "code",
   "execution_count": 15,
   "metadata": {},
   "outputs": [
    {
     "data": {
      "text/plain": [
       "(393, 18)"
      ]
     },
     "execution_count": 15,
     "metadata": {},
     "output_type": "execute_result"
    }
   ],
   "source": [
    "kawasaki_subset.shape"
   ]
  },
  {
   "cell_type": "code",
   "execution_count": 16,
   "metadata": {},
   "outputs": [
    {
     "data": {
      "text/plain": [
       "black\n",
       "0    0.838926\n",
       "1    0.726316\n",
       "Name: therapy_responder, dtype: float64"
      ]
     },
     "execution_count": 16,
     "metadata": {},
     "output_type": "execute_result"
    }
   ],
   "source": [
    "kawasaki_subset.groupby('black').therapy_responder.mean()"
   ]
  },
  {
   "cell_type": "markdown",
   "metadata": {},
   "source": [
    "Probability of responder does not seem to vary with age. Wide variation at the end is mostly a sample size artefact."
   ]
  },
  {
   "cell_type": "code",
   "execution_count": 17,
   "metadata": {},
   "outputs": [
    {
     "data": {
      "text/plain": [
       "[<matplotlib.lines.Line2D at 0x11d531a90>]"
      ]
     },
     "execution_count": 17,
     "metadata": {},
     "output_type": "execute_result"
    },
    {
     "data": {
      "image/png": "[encoded data removed]",
      "text/plain": [
       "<matplotlib.figure.Figure at 0x10c5e9dd8>"
      ]
     },
     "metadata": {},
     "output_type": "display_data"
    }
   ],
   "source": [
    "ax = (kawasaki_subset[kawasaki_subset.age_years<10]\n",
    "              .assign(age_int=kawasaki_subset.age_years.astype(int))\n",
    "              .groupby('age_int')).therapy_responder.mean().plot()\n",
    "ax.set_xlabel('age')\n",
    "responders = kawasaki_subset[kawasaki_subset.therapy_responder==1]\n",
    "ax.plot(responders.age_years, np.random.normal(0.9, 0.005, size=len(responders)), \n",
    "        'go', alpha=0.3)\n",
    "\n",
    "nonresponders = kawasaki_subset[kawasaki_subset.therapy_responder==0]\n",
    "ax.plot(nonresponders.age_years, np.random.normal(0.6, 0.005, size=len(nonresponders)), \n",
    "        'ro', alpha=0.3)"
   ]
  },
  {
   "cell_type": "code",
   "execution_count": 18,
   "metadata": {},
   "outputs": [
    {
     "data": {
      "text/plain": [
       "therapy_responder    0.00\n",
       "male                 0.00\n",
       "age_norm             0.00\n",
       "age_norm2            0.00\n",
       "age_years            0.00\n",
       "black                0.00\n",
       "other_race           0.00\n",
       "ethnicity            0.00\n",
       "completekd           0.00\n",
       "hgb                  0.07\n",
       "albumin              0.42\n",
       "esr_mm_hr            0.11\n",
       "plts                 0.06\n",
       "crp_mg_l             0.23\n",
       "wbc                  0.06\n",
       "ast                  0.21\n",
       "illness_day_at_rx    0.00\n",
       "non_responder        0.00\n",
       "dtype: float64"
      ]
     },
     "execution_count": 18,
     "metadata": {},
     "output_type": "execute_result"
    }
   ],
   "source": [
    "kawasaki_subset.isnull().mean().round(2)"
   ]
  },
  {
   "cell_type": "code",
   "execution_count": 25,
   "metadata": {},
   "outputs": [
    {
     "data": {
      "image/png": "[encoded data removed]",
      "text/plain": [
       "<matplotlib.figure.Figure at 0x11fffbac8>"
      ]
     },
     "metadata": {},
     "output_type": "display_data"
    }
   ],
   "source": [
    "pd.scatter_matrix(kawasaki_subset[['hgb', 'plts', 'wbc', 'illness_day_at_rx']]);"
   ]
  },
  {
   "cell_type": "markdown",
   "metadata": {},
   "source": [
    "## Model specification"
   ]
  },
  {
   "cell_type": "code",
   "execution_count": 26,
   "metadata": {
    "collapsed": true
   },
   "outputs": [],
   "source": [
    "def interpolate(x0,y0, x):\n",
    "    x = np.array(x)\n",
    "\n",
    "    idx = np.searchsorted(x0, x)\n",
    "    dl = np.array(x - x0[idx - 1])\n",
    "    dr = np.array(x0[idx] - x)\n",
    "    d=dl+dr\n",
    "    wl = dr/d\n",
    "\n",
    "    return wl*y0[idx-1] + (1-wl)*y0[idx]\n"
   ]
  },
  {
   "cell_type": "code",
   "execution_count": 159,
   "metadata": {
    "collapsed": true
   },
   "outputs": [],
   "source": [
    "import theano.tensor as tt\n",
    "GaussianRandomWalk = pm.distributions.timeseries.GaussianRandomWalk\n",
    "\n",
    "covs = ['male', 'black', 'completekd']\n",
    "k = len(covs)\n",
    "nknots = 7\n",
    "\n",
    "knots = np.linspace(kawasaki_subset.age_norm.min(), kawasaki_subset.age_norm.max(), nknots)\n",
    "\n",
    "with pm.Model() as model:\n",
    "    \n",
    "    # Baseline probability of non-response\n",
    "    θ = pm.Normal('θ', 0, sd=10)\n",
    "    # Coefficients for covariates\n",
    "    β = pm.Normal('β', 0, sd=10, shape=k)\n",
    "    \n",
    "    odds = pm.Deterministic('odds', tt.exp(β))\n",
    "    \n",
    "    # Age effect (non-linear)\n",
    "    σ = pm.HalfCauchy('σ', 2.5)\n",
    "    y = GaussianRandomWalk('y', sd=σ, shape=nknots)\n",
    "\n",
    "    α = pm.Deterministic('α', interpolate(knots, y, kawasaki_subset.age_norm))\n",
    "    \n",
    "    \n",
    "    # Probabilities\n",
    "    p_race_female = pm.Deterministic('p_race_female', pm.invlogit(θ))\n",
    "    p_race_male = pm.Deterministic('p_race_male', pm.invlogit(θ + β[1]))\n",
    "    p_race_black_female = pm.Deterministic('p_race_black_female', \n",
    "                                           pm.invlogit(θ + β[1]))\n",
    "    p_race_black_male = pm.Deterministic('p_race_black_male', \n",
    "                                         pm.invlogit(θ + β[0] + β[1]))\n",
    "        \n",
    "    π = pm.Deterministic('π', pm.invlogit(θ + tt.dot(kawasaki_subset[covs].values, β)+ α*kawasaki_subset.age_norm.values))\n",
    "    \n",
    "    non_responder = pm.Bernoulli('non_responder', π, observed=kawasaki_subset.non_responder)\n",
    "    \n",
    "    brier = pm.Deterministic('brier_score', tt.mean((π - kawasaki_subset.non_responder)**2))"
   ]
  },
  {
   "cell_type": "code",
   "execution_count": 160,
   "metadata": {},
   "outputs": [
    {
     "name": "stderr",
     "output_type": "stream",
     "text": [
      "Auto-assigning NUTS sampler...\n",
      "Initializing NUTS using advi...\n",
      "Average ELBO = -205.87: 100%|██████████| 50000/50000 [00:08<00:00, 5648.54it/s]\n",
      "Finished [100%]: Average ELBO = -205.73\n",
      "100%|██████████| 2000/2000 [00:17<00:00, 114.30it/s]\n"
     ]
    }
   ],
   "source": [
    "with model:\n",
    "    trace = pm.sample(2000, njobs=2, n_init=50000)"
   ]
  },
  {
   "cell_type": "code",
   "execution_count": 161,
   "metadata": {
    "collapsed": true
   },
   "outputs": [],
   "source": [
    "def energy_plot(trace):\n",
    "    energy = trace['energy']\n",
    "    energy_diff = np.diff(energy)\n",
    "    \n",
    "    fig, ax = plt.subplots(figsize=(8, 6))\n",
    "    \n",
    "    ax.hist(energy - energy.mean(), bins=30,\n",
    "            lw=0, alpha=0.5,\n",
    "            label=\"Energy\")\n",
    "    ax.hist(energy_diff, bins=30,\n",
    "            lw=0, alpha=0.5,\n",
    "            label=\"Energy difference\")\n",
    "    \n",
    "    ax.set_xticks([])\n",
    "    ax.set_yticks([])\n",
    "    \n",
    "    ax.legend()"
   ]
  },
  {
   "cell_type": "code",
   "execution_count": 162,
   "metadata": {},
   "outputs": [
    {
     "data": {
      "image/png": "[encoded data removed]",
      "text/plain": [
       "<matplotlib.figure.Figure at 0x132208208>"
      ]
     },
     "metadata": {},
     "output_type": "display_data"
    }
   ],
   "source": [
    "energy_plot(trace)"
   ]
  },
  {
   "cell_type": "markdown",
   "metadata": {},
   "source": [
    "Odds ratios for responder. Tabulated values below plot."
   ]
  },
  {
   "cell_type": "code",
   "execution_count": 163,
   "metadata": {},
   "outputs": [
    {
     "data": {
      "text/plain": [
       "<matplotlib.gridspec.GridSpec at 0x13960b550>"
      ]
     },
     "execution_count": 163,
     "metadata": {},
     "output_type": "execute_result"
    },
    {
     "data": {
      "image/png": "[encoded data removed]",
      "text/plain": [
       "<matplotlib.figure.Figure at 0x13960b278>"
      ]
     },
     "metadata": {},
     "output_type": "display_data"
    }
   ],
   "source": [
    "pm.forestplot(trace[1000:], varnames=['odds'], ylabels=covs, vline=1, \n",
    "              main='Odds ratios of covariates')"
   ]
  },
  {
   "cell_type": "markdown",
   "metadata": {},
   "source": [
    "Age effect"
   ]
  },
  {
   "cell_type": "code",
   "execution_count": 164,
   "metadata": {},
   "outputs": [
    {
     "data": {
      "text/plain": [
       "<matplotlib.gridspec.GridSpec at 0x12e100b70>"
      ]
     },
     "execution_count": 164,
     "metadata": {},
     "output_type": "execute_result"
    },
    {
     "data": {
      "image/png": "[encoded data removed]",
      "text/plain": [
       "<matplotlib.figure.Figure at 0x124cc4278>"
      ]
     },
     "metadata": {},
     "output_type": "display_data"
    }
   ],
   "source": [
    "pm.forestplot(trace[burn:], varnames=['y'])"
   ]
  },
  {
   "cell_type": "code",
   "execution_count": 165,
   "metadata": {},
   "outputs": [
    {
     "name": "stdout",
     "output_type": "stream",
     "text": [
      "\n",
      "odds:\n",
      "\n",
      "  Mean             SD               MC Error         95% HPD interval\n",
      "  -------------------------------------------------------------------\n",
      "  \n",
      "  1.242            0.362            0.011            [0.643, 1.996]\n",
      "  2.041            0.567            0.012            [1.079, 3.218]\n",
      "  0.568            0.179            0.007            [0.274, 0.932]\n",
      "\n",
      "  Posterior quantiles:\n",
      "  2.5            25             50             75             97.5\n",
      "  |--------------|==============|==============|--------------|\n",
      "  \n",
      "  0.678          0.991          1.193          1.425          2.116\n",
      "  1.155          1.630          1.963          2.375          3.316\n",
      "  0.307          0.441          0.535          0.661          0.998\n",
      "\n"
     ]
    }
   ],
   "source": [
    "pm.summary(trace[burn:], varnames=['odds'])"
   ]
  },
  {
   "cell_type": "code",
   "execution_count": 166,
   "metadata": {},
   "outputs": [
    {
     "data": {
      "text/plain": [
       "array([<matplotlib.axes._subplots.AxesSubplot object at 0x13158ff98>], dtype=object)"
      ]
     },
     "execution_count": 166,
     "metadata": {},
     "output_type": "execute_result"
    },
    {
     "data": {
      "image/png": "[encoded data removed]",
      "text/plain": [
       "<matplotlib.figure.Figure at 0x131f4c5c0>"
      ]
     },
     "metadata": {},
     "output_type": "display_data"
    }
   ],
   "source": [
    "pm.plot_posterior(trace[burn:], varnames=['brier_score'])"
   ]
  },
  {
   "cell_type": "code",
   "execution_count": 168,
   "metadata": {},
   "outputs": [
    {
     "data": {
      "text/plain": [
       "(4000, 393)"
      ]
     },
     "execution_count": 168,
     "metadata": {},
     "output_type": "execute_result"
    }
   ],
   "source": [
    "probs = trace['π']\n",
    "probs.shape"
   ]
  },
  {
   "cell_type": "code",
   "execution_count": 169,
   "metadata": {
    "collapsed": true
   },
   "outputs": [],
   "source": [
    "predictions = pd.DataFrame({'p': probs.mean(0),\n",
    "                            'obs': kawasaki_subset.non_responder})"
   ]
  },
  {
   "cell_type": "code",
   "execution_count": 170,
   "metadata": {},
   "outputs": [
    {
     "data": {
      "text/html": [
       "<div>\n",
       "<table border=\"1\" class=\"dataframe\">\n",
       "  <thead>\n",
       "    <tr style=\"text-align: right;\">\n",
       "      <th></th>\n",
       "      <th>obs</th>\n",
       "      <th>p</th>\n",
       "    </tr>\n",
       "    <tr>\n",
       "      <th>study_id</th>\n",
       "      <th></th>\n",
       "      <th></th>\n",
       "    </tr>\n",
       "  </thead>\n",
       "  <tbody>\n",
       "    <tr>\n",
       "      <th>KD047</th>\n",
       "      <td>0</td>\n",
       "      <td>0.439560</td>\n",
       "    </tr>\n",
       "    <tr>\n",
       "      <th>KD237</th>\n",
       "      <td>0</td>\n",
       "      <td>0.437816</td>\n",
       "    </tr>\n",
       "    <tr>\n",
       "      <th>kd455</th>\n",
       "      <td>0</td>\n",
       "      <td>0.434570</td>\n",
       "    </tr>\n",
       "    <tr>\n",
       "      <th>KD082a</th>\n",
       "      <td>1</td>\n",
       "      <td>0.431633</td>\n",
       "    </tr>\n",
       "    <tr>\n",
       "      <th>KD327</th>\n",
       "      <td>0</td>\n",
       "      <td>0.427658</td>\n",
       "    </tr>\n",
       "    <tr>\n",
       "      <th>KD063a</th>\n",
       "      <td>0</td>\n",
       "      <td>0.425703</td>\n",
       "    </tr>\n",
       "    <tr>\n",
       "      <th>KD054</th>\n",
       "      <td>0</td>\n",
       "      <td>0.422814</td>\n",
       "    </tr>\n",
       "    <tr>\n",
       "      <th>KD032</th>\n",
       "      <td>0</td>\n",
       "      <td>0.401774</td>\n",
       "    </tr>\n",
       "    <tr>\n",
       "      <th>kd474</th>\n",
       "      <td>0</td>\n",
       "      <td>0.376369</td>\n",
       "    </tr>\n",
       "    <tr>\n",
       "      <th>KD050</th>\n",
       "      <td>0</td>\n",
       "      <td>0.374794</td>\n",
       "    </tr>\n",
       "    <tr>\n",
       "      <th>KD078</th>\n",
       "      <td>0</td>\n",
       "      <td>0.374068</td>\n",
       "    </tr>\n",
       "    <tr>\n",
       "      <th>KD119</th>\n",
       "      <td>0</td>\n",
       "      <td>0.368762</td>\n",
       "    </tr>\n",
       "    <tr>\n",
       "      <th>KD020</th>\n",
       "      <td>0</td>\n",
       "      <td>0.349905</td>\n",
       "    </tr>\n",
       "    <tr>\n",
       "      <th>kd478</th>\n",
       "      <td>1</td>\n",
       "      <td>0.345503</td>\n",
       "    </tr>\n",
       "    <tr>\n",
       "      <th>KD379</th>\n",
       "      <td>1</td>\n",
       "      <td>0.345298</td>\n",
       "    </tr>\n",
       "    <tr>\n",
       "      <th>KD127</th>\n",
       "      <td>0</td>\n",
       "      <td>0.342383</td>\n",
       "    </tr>\n",
       "    <tr>\n",
       "      <th>KD040</th>\n",
       "      <td>1</td>\n",
       "      <td>0.339265</td>\n",
       "    </tr>\n",
       "    <tr>\n",
       "      <th>KD163a</th>\n",
       "      <td>1</td>\n",
       "      <td>0.308718</td>\n",
       "    </tr>\n",
       "    <tr>\n",
       "      <th>KD253</th>\n",
       "      <td>1</td>\n",
       "      <td>0.303056</td>\n",
       "    </tr>\n",
       "    <tr>\n",
       "      <th>KD304</th>\n",
       "      <td>1</td>\n",
       "      <td>0.299657</td>\n",
       "    </tr>\n",
       "    <tr>\n",
       "      <th>KD436</th>\n",
       "      <td>1</td>\n",
       "      <td>0.298927</td>\n",
       "    </tr>\n",
       "    <tr>\n",
       "      <th>KD305</th>\n",
       "      <td>0</td>\n",
       "      <td>0.298594</td>\n",
       "    </tr>\n",
       "    <tr>\n",
       "      <th>KD247</th>\n",
       "      <td>0</td>\n",
       "      <td>0.297070</td>\n",
       "    </tr>\n",
       "    <tr>\n",
       "      <th>KD165</th>\n",
       "      <td>0</td>\n",
       "      <td>0.296616</td>\n",
       "    </tr>\n",
       "    <tr>\n",
       "      <th>KD126</th>\n",
       "      <td>0</td>\n",
       "      <td>0.295957</td>\n",
       "    </tr>\n",
       "    <tr>\n",
       "      <th>KD274</th>\n",
       "      <td>1</td>\n",
       "      <td>0.295839</td>\n",
       "    </tr>\n",
       "    <tr>\n",
       "      <th>KD321</th>\n",
       "      <td>1</td>\n",
       "      <td>0.295514</td>\n",
       "    </tr>\n",
       "    <tr>\n",
       "      <th>KD312</th>\n",
       "      <td>0</td>\n",
       "      <td>0.294721</td>\n",
       "    </tr>\n",
       "    <tr>\n",
       "      <th>KD024a</th>\n",
       "      <td>1</td>\n",
       "      <td>0.294287</td>\n",
       "    </tr>\n",
       "    <tr>\n",
       "      <th>kd473</th>\n",
       "      <td>0</td>\n",
       "      <td>0.293111</td>\n",
       "    </tr>\n",
       "    <tr>\n",
       "      <th>...</th>\n",
       "      <td>...</td>\n",
       "      <td>...</td>\n",
       "    </tr>\n",
       "    <tr>\n",
       "      <th>KD076</th>\n",
       "      <td>0</td>\n",
       "      <td>0.108223</td>\n",
       "    </tr>\n",
       "    <tr>\n",
       "      <th>KD072</th>\n",
       "      <td>0</td>\n",
       "      <td>0.107748</td>\n",
       "    </tr>\n",
       "    <tr>\n",
       "      <th>KD139</th>\n",
       "      <td>1</td>\n",
       "      <td>0.107641</td>\n",
       "    </tr>\n",
       "    <tr>\n",
       "      <th>kd451</th>\n",
       "      <td>0</td>\n",
       "      <td>0.107571</td>\n",
       "    </tr>\n",
       "    <tr>\n",
       "      <th>KD005</th>\n",
       "      <td>0</td>\n",
       "      <td>0.107125</td>\n",
       "    </tr>\n",
       "    <tr>\n",
       "      <th>KD131</th>\n",
       "      <td>0</td>\n",
       "      <td>0.107125</td>\n",
       "    </tr>\n",
       "    <tr>\n",
       "      <th>kd360</th>\n",
       "      <td>0</td>\n",
       "      <td>0.106888</td>\n",
       "    </tr>\n",
       "    <tr>\n",
       "      <th>KD403</th>\n",
       "      <td>1</td>\n",
       "      <td>0.106597</td>\n",
       "    </tr>\n",
       "    <tr>\n",
       "      <th>KD503</th>\n",
       "      <td>0</td>\n",
       "      <td>0.106486</td>\n",
       "    </tr>\n",
       "    <tr>\n",
       "      <th>KD501</th>\n",
       "      <td>0</td>\n",
       "      <td>0.106435</td>\n",
       "    </tr>\n",
       "    <tr>\n",
       "      <th>KD216</th>\n",
       "      <td>0</td>\n",
       "      <td>0.105950</td>\n",
       "    </tr>\n",
       "    <tr>\n",
       "      <th>KD111</th>\n",
       "      <td>0</td>\n",
       "      <td>0.105273</td>\n",
       "    </tr>\n",
       "    <tr>\n",
       "      <th>kd457</th>\n",
       "      <td>0</td>\n",
       "      <td>0.104536</td>\n",
       "    </tr>\n",
       "    <tr>\n",
       "      <th>KD487</th>\n",
       "      <td>0</td>\n",
       "      <td>0.104485</td>\n",
       "    </tr>\n",
       "    <tr>\n",
       "      <th>KD106</th>\n",
       "      <td>1</td>\n",
       "      <td>0.104339</td>\n",
       "    </tr>\n",
       "    <tr>\n",
       "      <th>KD143</th>\n",
       "      <td>0</td>\n",
       "      <td>0.104256</td>\n",
       "    </tr>\n",
       "    <tr>\n",
       "      <th>KD428</th>\n",
       "      <td>0</td>\n",
       "      <td>0.103994</td>\n",
       "    </tr>\n",
       "    <tr>\n",
       "      <th>KD427</th>\n",
       "      <td>0</td>\n",
       "      <td>0.103756</td>\n",
       "    </tr>\n",
       "    <tr>\n",
       "      <th>KD196</th>\n",
       "      <td>0</td>\n",
       "      <td>0.102561</td>\n",
       "    </tr>\n",
       "    <tr>\n",
       "      <th>KD142</th>\n",
       "      <td>0</td>\n",
       "      <td>0.102188</td>\n",
       "    </tr>\n",
       "    <tr>\n",
       "      <th>kd338</th>\n",
       "      <td>0</td>\n",
       "      <td>0.098949</td>\n",
       "    </tr>\n",
       "    <tr>\n",
       "      <th>KD133</th>\n",
       "      <td>0</td>\n",
       "      <td>0.097944</td>\n",
       "    </tr>\n",
       "    <tr>\n",
       "      <th>kd479</th>\n",
       "      <td>0</td>\n",
       "      <td>0.095859</td>\n",
       "    </tr>\n",
       "    <tr>\n",
       "      <th>KD208</th>\n",
       "      <td>0</td>\n",
       "      <td>0.095570</td>\n",
       "    </tr>\n",
       "    <tr>\n",
       "      <th>KD015</th>\n",
       "      <td>0</td>\n",
       "      <td>0.093078</td>\n",
       "    </tr>\n",
       "    <tr>\n",
       "      <th>KD496</th>\n",
       "      <td>0</td>\n",
       "      <td>0.092073</td>\n",
       "    </tr>\n",
       "    <tr>\n",
       "      <th>KD297</th>\n",
       "      <td>0</td>\n",
       "      <td>0.091734</td>\n",
       "    </tr>\n",
       "    <tr>\n",
       "      <th>KD394</th>\n",
       "      <td>0</td>\n",
       "      <td>0.090316</td>\n",
       "    </tr>\n",
       "    <tr>\n",
       "      <th>KD285</th>\n",
       "      <td>0</td>\n",
       "      <td>0.083864</td>\n",
       "    </tr>\n",
       "    <tr>\n",
       "      <th>kd377</th>\n",
       "      <td>0</td>\n",
       "      <td>0.078303</td>\n",
       "    </tr>\n",
       "  </tbody>\n",
       "</table>\n",
       "<p>393 rows × 2 columns</p>\n",
       "</div>"
      ],
      "text/plain": [
       "          obs         p\n",
       "study_id               \n",
       "KD047       0  0.439560\n",
       "KD237       0  0.437816\n",
       "kd455       0  0.434570\n",
       "KD082a      1  0.431633\n",
       "KD327       0  0.427658\n",
       "KD063a      0  0.425703\n",
       "KD054       0  0.422814\n",
       "KD032       0  0.401774\n",
       "kd474       0  0.376369\n",
       "KD050       0  0.374794\n",
       "KD078       0  0.374068\n",
       "KD119       0  0.368762\n",
       "KD020       0  0.349905\n",
       "kd478       1  0.345503\n",
       "KD379       1  0.345298\n",
       "KD127       0  0.342383\n",
       "KD040       1  0.339265\n",
       "KD163a      1  0.308718\n",
       "KD253       1  0.303056\n",
       "KD304       1  0.299657\n",
       "KD436       1  0.298927\n",
       "KD305       0  0.298594\n",
       "KD247       0  0.297070\n",
       "KD165       0  0.296616\n",
       "KD126       0  0.295957\n",
       "KD274       1  0.295839\n",
       "KD321       1  0.295514\n",
       "KD312       0  0.294721\n",
       "KD024a      1  0.294287\n",
       "kd473       0  0.293111\n",
       "...       ...       ...\n",
       "KD076       0  0.108223\n",
       "KD072       0  0.107748\n",
       "KD139       1  0.107641\n",
       "kd451       0  0.107571\n",
       "KD005       0  0.107125\n",
       "KD131       0  0.107125\n",
       "kd360       0  0.106888\n",
       "KD403       1  0.106597\n",
       "KD503       0  0.106486\n",
       "KD501       0  0.106435\n",
       "KD216       0  0.105950\n",
       "KD111       0  0.105273\n",
       "kd457       0  0.104536\n",
       "KD487       0  0.104485\n",
       "KD106       1  0.104339\n",
       "KD143       0  0.104256\n",
       "KD428       0  0.103994\n",
       "KD427       0  0.103756\n",
       "KD196       0  0.102561\n",
       "KD142       0  0.102188\n",
       "kd338       0  0.098949\n",
       "KD133       0  0.097944\n",
       "kd479       0  0.095859\n",
       "KD208       0  0.095570\n",
       "KD015       0  0.093078\n",
       "KD496       0  0.092073\n",
       "KD297       0  0.091734\n",
       "KD394       0  0.090316\n",
       "KD285       0  0.083864\n",
       "kd377       0  0.078303\n",
       "\n",
       "[393 rows x 2 columns]"
      ]
     },
     "execution_count": 170,
     "metadata": {},
     "output_type": "execute_result"
    }
   ],
   "source": [
    "predictions.sort_values(by='p', ascending=False).head()"
   ]
  },
  {
   "cell_type": "code",
   "execution_count": 183,
   "metadata": {},
   "outputs": [
    {
     "data": {
      "text/plain": [
       "<matplotlib.text.Text at 0x1307898d0>"
      ]
     },
     "execution_count": 183,
     "metadata": {},
     "output_type": "execute_result"
    },
    {
     "data": {
      "image/png": "[encoded data removed]",
      "text/plain": [
       "<matplotlib.figure.Figure at 0x139410160>"
      ]
     },
     "metadata": {},
     "output_type": "display_data"
    }
   ],
   "source": [
    "ax = (predictions.assign(obsj=predictions.obs+0.02*np.random.randn(len(predictions)))\n",
    "              .plot.scatter(x='p', y='obsj', alpha=0.4, figsize=(12,4)))\n",
    "ax.set_yticks([0,1])\n",
    "ax.set_yticklabels(['responder', 'non-responder'], fontsize=14)\n",
    "ax.set_ylabel('')"
   ]
  },
  {
   "cell_type": "code",
   "execution_count": 74,
   "metadata": {
    "collapsed": true
   },
   "outputs": [],
   "source": [
    "from sklearn.metrics import roc_curve, auc\n",
    "\n",
    "fpr, tpr, thresh = roc_curve(predictions.obs, predictions.p)\n",
    "roc_auc = auc(fpr, tpr)"
   ]
  },
  {
   "cell_type": "code",
   "execution_count": 178,
   "metadata": {},
   "outputs": [
    {
     "data": {
      "text/plain": [
       "<matplotlib.legend.Legend at 0x138772e48>"
      ]
     },
     "execution_count": 178,
     "metadata": {},
     "output_type": "execute_result"
    },
    {
     "data": {
      "image/png": "[encoded data removed]",
      "text/plain": [
       "<matplotlib.figure.Figure at 0x12d550f28>"
      ]
     },
     "metadata": {},
     "output_type": "display_data"
    }
   ],
   "source": [
    "lw = 2\n",
    "plt.plot(fpr, tpr, color='darkorange',\n",
    "         lw=lw, label='ROC curve (area = %0.2f)' % roc_auc)\n",
    "plt.plot([0, 1], [0, 1], color='navy', lw=lw, linestyle='--')\n",
    "plt.xlim([0.0, 1.0])\n",
    "plt.ylim([0.0, 1.05])\n",
    "plt.xlabel('False Positive Rate')\n",
    "plt.ylabel('True Positive Rate')\n",
    "plt.title('Receiver operating characteristic example')\n",
    "plt.legend(loc=\"lower right\")"
   ]
  },
  {
   "cell_type": "markdown",
   "metadata": {},
   "source": [
    "### Expanded covariate model"
   ]
  },
  {
   "cell_type": "code",
   "execution_count": 80,
   "metadata": {},
   "outputs": [],
   "source": [
    "import theano.tensor as tt\n",
    "GaussianRandomWalk = pm.distributions.timeseries.GaussianRandomWalk\n",
    "\n",
    "binary_covs = ['male', 'black', 'completekd']\n",
    "k = len(binary_covs) + 4\n",
    "nknots = 7\n",
    "\n",
    "knots = np.linspace(kawasaki_subset.age_norm.min(), kawasaki_subset.age_norm.max(), nknots)\n",
    "\n",
    "lasso = False\n",
    "\n",
    "with pm.Model() as covariate_model:\n",
    "    \n",
    "    # Imputation of missing values\n",
    "    hgb_norm = (kawasaki_subset.hgb - kawasaki_subset.hgb.mean()) / (2*kawasaki_subset.hgb.std())\n",
    "    hgb_imp = pm.Normal('hgb_imp', 0, sd=0.5, observed=hgb_norm)\n",
    "    \n",
    "    plts_norm = (kawasaki_subset.plts - kawasaki_subset.plts.mean()) / (2*kawasaki_subset.plts.std())\n",
    "    plts_imp = pm.Normal('plts_imp', 0, sd=0.5, observed=plts_norm)\n",
    "    \n",
    "    wbc_norm = (kawasaki_subset.wbc - kawasaki_subset.wbc.mean()) / (2*kawasaki_subset.wbc.std())\n",
    "    wbc_imp = pm.Normal('wbc_imp', 0, sd=0.5, observed=wbc_centered)\n",
    "    \n",
    "    illness_day_norm = ((kawasaki_subset.illness_day_at_rx - kawasaki_subset.illness_day_at_rx.mean()) \n",
    "                                / (2*kawasaki_subset.illness_day_at_rx.std()))\n",
    "    \n",
    "    # Baseline probability of non-response\n",
    "    θ = pm.Normal('θ', 0, sd=10)\n",
    "    \n",
    "    if lasso:\n",
    "        # Lasso parameters\n",
    "        lam = pm.Exponential('s', 0.1)\n",
    "        tau = pm.Uniform('tau', 0, 1000)\n",
    "        b = lam * tau\n",
    "\n",
    "        # Coefficients for covariates\n",
    "        β = pm.Laplace('β', 0, b, shape=k)\n",
    "    else:\n",
    "        β = pm.Normal('β', 0, sd=10, shape=k)\n",
    "    \n",
    "    odds = pm.Deterministic('odds', tt.exp(β))\n",
    "        \n",
    "    π = pm.Deterministic('π', pm.invlogit(θ + tt.dot(kawasaki_subset[binary_covs].values, β[:-4])\n",
    "                                       + β[-4]*illness_day_norm + β[-3]*hgb_imp + β[-2]*plts_imp + β[-1]*wbc_imp))\n",
    "    \n",
    "    non_responder = pm.Bernoulli('non_responder', π, observed=kawasaki_subset.non_responder)\n",
    "    \n",
    "    brier = pm.Deterministic('brier_score', tt.mean((π - kawasaki_subset.non_responder)**2))"
   ]
  },
  {
   "cell_type": "code",
   "execution_count": 81,
   "metadata": {},
   "outputs": [
    {
     "name": "stderr",
     "output_type": "stream",
     "text": [
      "Auto-assigning NUTS sampler...\n",
      "Initializing NUTS using advi...\n",
      "  0%|          | 0/200000 [00:00<?, ?it/s]Median ELBO converged.\n",
      "Finished [100%]: Average ELBO = -25,518\n",
      "\n",
      "100%|██████████| 5000/5000 [02:29<00:00, 33.44it/s]\n"
     ]
    }
   ],
   "source": [
    "with covariate_model:\n",
    "    cov_trace = pm.sample(5000, tune=4000)"
   ]
  },
  {
   "cell_type": "code",
   "execution_count": 69,
   "metadata": {},
   "outputs": [
    {
     "name": "stdout",
     "output_type": "stream",
     "text": [
      "\n",
      "odds:\n",
      "\n",
      "  Mean             SD               MC Error         95% HPD interval\n",
      "  -------------------------------------------------------------------\n",
      "  \n",
      "  1.143            0.239            0.008            [0.735, 1.615]\n",
      "  1.440            0.453            0.018            [0.806, 2.352]\n",
      "  0.789            0.196            0.007            [0.402, 1.102]\n",
      "  1.080            0.205            0.006            [0.747, 1.564]\n",
      "  0.782            0.185            0.007            [0.425, 1.087]\n",
      "  0.913            0.183            0.006            [0.528, 1.224]\n",
      "  1.053            0.026            0.001            [1.001, 1.104]\n",
      "\n",
      "  Posterior quantiles:\n",
      "  2.5            25             50             75             97.5\n",
      "  |--------------|==============|==============|--------------|\n",
      "  \n",
      "  0.801          0.991          1.087          1.252          1.716\n",
      "  0.895          1.096          1.322          1.681          2.525\n",
      "  0.408          0.649          0.799          0.944          1.143\n",
      "  0.751          0.957          1.043          1.166          1.574\n",
      "  0.433          0.651          0.785          0.922          1.096\n",
      "  0.546          0.794          0.937          1.026          1.260\n",
      "  1.004          1.036          1.052          1.070          1.110\n",
      "\n"
     ]
    }
   ],
   "source": [
    "pm.summary(cov_trace[-1000:], varnames=['odds'])"
   ]
  },
  {
   "cell_type": "code",
   "execution_count": 70,
   "metadata": {},
   "outputs": [
    {
     "data": {
      "text/plain": [
       "<matplotlib.gridspec.GridSpec at 0x121e1ce48>"
      ]
     },
     "execution_count": 70,
     "metadata": {},
     "output_type": "execute_result"
    },
    {
     "data": {
      "image/png": "[encoded data removed]",
      "text/plain": [
       "<matplotlib.figure.Figure at 0x121e1c5f8>"
      ]
     },
     "metadata": {},
     "output_type": "display_data"
    }
   ],
   "source": [
    "pm.forestplot(cov_trace[-1000:], varnames=['odds'], ylabels=covs + ['hgb', 'plts', 'wbc'], vline=1, \n",
    "              main='Odds ratios of covariates')"
   ]
  },
  {
   "cell_type": "code",
   "execution_count": 86,
   "metadata": {},
   "outputs": [
    {
     "data": {
      "text/plain": [
       "<matplotlib.gridspec.GridSpec at 0x133d6ca20>"
      ]
     },
     "execution_count": 86,
     "metadata": {},
     "output_type": "execute_result"
    },
    {
     "data": {
      "image/png": "[encoded data removed]",
      "text/plain": [
       "<matplotlib.figure.Figure at 0x133d6c0b8>"
      ]
     },
     "metadata": {},
     "output_type": "display_data"
    }
   ],
   "source": [
    "pm.forestplot(cov_trace[-1000:], varnames=['odds'], ylabels=covs + ['hgb', 'plts', 'wbc'], vline=1, \n",
    "              main='Odds ratios of covariates')"
   ]
  },
  {
   "cell_type": "code",
   "execution_count": 82,
   "metadata": {
    "scrolled": true
   },
   "outputs": [
    {
     "data": {
      "image/png": "[encoded data removed]",
      "text/plain": [
       "<matplotlib.figure.Figure at 0x13b0dbcc0>"
      ]
     },
     "metadata": {},
     "output_type": "display_data"
    }
   ],
   "source": [
    "pm.traceplot(cov_trace[-1000:], varnames=['θ'], transform=lambda x: 1/(1+np.exp(-x)));"
   ]
  },
  {
   "cell_type": "code",
   "execution_count": null,
   "metadata": {
    "collapsed": true
   },
   "outputs": [],
   "source": [
    "pm.traceplot(cov_trace[-1000:], varnames=['brier'])"
   ]
  },
  {
   "cell_type": "code",
   "execution_count": 83,
   "metadata": {},
   "outputs": [],
   "source": [
    "probs = cov_trace['π']\n",
    "predictions = pd.DataFrame({'p': probs.mean(0),\n",
    "                            'obs': kawasaki_subset.non_responder})"
   ]
  },
  {
   "cell_type": "code",
   "execution_count": 84,
   "metadata": {},
   "outputs": [],
   "source": [
    "fpr, tpr, thresh = roc_curve(predictions.obs, predictions.p)\n",
    "roc_auc = auc(fpr, tpr)"
   ]
  },
  {
   "cell_type": "code",
   "execution_count": 85,
   "metadata": {},
   "outputs": [
    {
     "data": {
      "text/plain": [
       "<matplotlib.legend.Legend at 0x131bb5da0>"
      ]
     },
     "execution_count": 85,
     "metadata": {},
     "output_type": "execute_result"
    },
    {
     "data": {
      "image/png": "[encoded data removed]",
      "text/plain": [
       "<matplotlib.figure.Figure at 0x13d8b18d0>"
      ]
     },
     "metadata": {},
     "output_type": "display_data"
    }
   ],
   "source": [
    "lw = 2\n",
    "plt.plot(fpr, tpr, color='darkorange',\n",
    "         lw=lw, label='ROC curve (area = %0.2f)' % roc_auc)\n",
    "plt.plot([0, 1], [0, 1], color='navy', lw=lw, linestyle='--')\n",
    "plt.xlim([0.0, 1.0])\n",
    "plt.ylim([0.0, 1.05])\n",
    "plt.xlabel('False Positive Rate')\n",
    "plt.ylabel('True Positive Rate')\n",
    "plt.title('Receiver operating characteristic example')\n",
    "plt.legend(loc=\"lower right\")"
   ]
  }
 ],
 "metadata": {
  "kernelspec": {
   "display_name": "Python 3",
   "language": "python",
   "name": "python3"
  },
  "language_info": {
   "codemirror_mode": {
    "name": "ipython",
    "version": 3
   },
   "file_extension": ".py",
   "mimetype": "text/x-python",
   "name": "python",
   "nbconvert_exporter": "python",
   "pygments_lexer": "ipython3",
   "version": "3.6.1"
  }
 },
 "nbformat": 4,
 "nbformat_minor": 1
}
