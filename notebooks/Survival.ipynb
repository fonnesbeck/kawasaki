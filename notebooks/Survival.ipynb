{
 "cells": [
  {
   "cell_type": "code",
   "execution_count": 1,
   "metadata": {},
   "outputs": [],
   "source": [
    "%matplotlib inline\n",
    "import numpy as np\n",
    "import pandas as pd\n",
    "import pymc3 as pm\n",
    "import seaborn as sns\n",
    "import matplotlib.pylab as plt\n",
    "from lifelines import KaplanMeierFitter"
   ]
  },
  {
   "cell_type": "code",
   "execution_count": 2,
   "metadata": {},
   "outputs": [
    {
     "data": {
      "text/html": [
       "<div>\n",
       "<style>\n",
       "    .dataframe thead tr:only-child th {\n",
       "        text-align: right;\n",
       "    }\n",
       "\n",
       "    .dataframe thead th {\n",
       "        text-align: left;\n",
       "    }\n",
       "\n",
       "    .dataframe tbody tr th {\n",
       "        vertical-align: top;\n",
       "    }\n",
       "</style>\n",
       "<table border=\"1\" class=\"dataframe\">\n",
       "  <thead>\n",
       "    <tr style=\"text-align: right;\">\n",
       "      <th></th>\n",
       "      <th>GROUP</th>\n",
       "      <th>New_DUR</th>\n",
       "      <th>status_KM</th>\n",
       "    </tr>\n",
       "    <tr>\n",
       "      <th>study_id</th>\n",
       "      <th></th>\n",
       "      <th></th>\n",
       "      <th></th>\n",
       "    </tr>\n",
       "  </thead>\n",
       "  <tbody>\n",
       "    <tr>\n",
       "      <th>KD001</th>\n",
       "      <td>Nonblack responder</td>\n",
       "      <td>3.0</td>\n",
       "      <td>Normal during FUP</td>\n",
       "    </tr>\n",
       "    <tr>\n",
       "      <th>KD004a</th>\n",
       "      <td>Black nonresponder</td>\n",
       "      <td>7.6</td>\n",
       "      <td>Normal during FUP</td>\n",
       "    </tr>\n",
       "    <tr>\n",
       "      <th>KD005</th>\n",
       "      <td>Nonblack responder</td>\n",
       "      <td>31.6</td>\n",
       "      <td>Normal during FUP</td>\n",
       "    </tr>\n",
       "    <tr>\n",
       "      <th>KD010</th>\n",
       "      <td>Nonblack responder</td>\n",
       "      <td>60.6</td>\n",
       "      <td>Normal during FUP</td>\n",
       "    </tr>\n",
       "    <tr>\n",
       "      <th>KD011</th>\n",
       "      <td>Nonblack responder</td>\n",
       "      <td>2.4</td>\n",
       "      <td>Normal during FUP</td>\n",
       "    </tr>\n",
       "  </tbody>\n",
       "</table>\n",
       "</div>"
      ],
      "text/plain": [
       "                       GROUP  New_DUR          status_KM\n",
       "study_id                                                \n",
       "KD001     Nonblack responder      3.0  Normal during FUP\n",
       "KD004a    Black nonresponder      7.6  Normal during FUP\n",
       "KD005     Nonblack responder     31.6  Normal during FUP\n",
       "KD010     Nonblack responder     60.6  Normal during FUP\n",
       "KD011     Nonblack responder      2.4  Normal during FUP"
      ]
     },
     "execution_count": 2,
     "metadata": {},
     "output_type": "execute_result"
    }
   ],
   "source": [
    "durations = pd.read_excel('../data/Rawdata_for_KM.xlsx', index_col=0)\n",
    "durations.head()"
   ]
  },
  {
   "cell_type": "code",
   "execution_count": 3,
   "metadata": {},
   "outputs": [
    {
     "data": {
      "text/plain": [
       "True"
      ]
     },
     "execution_count": 3,
     "metadata": {},
     "output_type": "execute_result"
    }
   ],
   "source": [
    "durations.index.is_unique"
   ]
  },
  {
   "cell_type": "markdown",
   "metadata": {},
   "source": [
    "## Survival analysis"
   ]
  },
  {
   "cell_type": "code",
   "execution_count": 4,
   "metadata": {},
   "outputs": [],
   "source": [
    "durations['event'] = (durations.status_KM=='Normal during FUP').astype(int)"
   ]
  },
  {
   "cell_type": "code",
   "execution_count": 5,
   "metadata": {},
   "outputs": [],
   "source": [
    "groups = durations.GROUP.unique().astype(str)\n",
    "kmf = KaplanMeierFitter()"
   ]
  },
  {
   "cell_type": "code",
   "execution_count": 6,
   "metadata": {},
   "outputs": [
    {
     "data": {
      "image/png": "[encoded data removed]",
      "text/plain": [
       "<matplotlib.figure.Figure at 0x11c174da0>"
      ]
     },
     "metadata": {},
     "output_type": "display_data"
    }
   ],
   "source": [
    "fig,axes = plt.subplots(2, 2, sharex=True, sharey=True)\n",
    "\n",
    "for ax, group in zip(axes.ravel(), groups):\n",
    "    times = durations.New_DUR[durations.GROUP==group]\n",
    "    events = durations.event[durations.GROUP==group]\n",
    "    kmf.fit(times, event_observed=events, label=group)\n",
    "    kmf.plot(ax=ax, ci_force_lines=True)\n",
    "    ax.set_title('Median: {}'.format(kmf.median_))\n"
   ]
  }
 ],
 "metadata": {
  "_draft": {
   "nbviewer_url": "https://gist.github.com/ea69cea888fa19df0559f981418871b7"
  },
  "gist": {
   "data": {
    "description": "KD survival",
    "public": false
   },
   "id": "ea69cea888fa19df0559f981418871b7"
  },
  "kernelspec": {
   "display_name": "Python 3",
   "language": "python",
   "name": "python3"
  },
  "language_info": {
   "codemirror_mode": {
    "name": "ipython",
    "version": 3
   },
   "file_extension": ".py",
   "mimetype": "text/x-python",
   "name": "python",
   "nbconvert_exporter": "python",
   "pygments_lexer": "ipython3",
   "version": "3.6.1"
  }
 },
 "nbformat": 4,
 "nbformat_minor": 2
}
