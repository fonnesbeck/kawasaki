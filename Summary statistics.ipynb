{
 "cells": [
  {
   "cell_type": "code",
   "execution_count": 1,
   "metadata": {
    "collapsed": false
   },
   "outputs": [],
   "source": [
    "%matplotlib inline\n",
    "from redcap import Project\n",
    "import numpy as np\n",
    "import pandas as pd\n",
    "import seaborn as sns\n",
    "import matplotlib.pylab as plt\n",
    "sns.set_context('notebook')"
   ]
  },
  {
   "cell_type": "code",
   "execution_count": 3,
   "metadata": {
    "collapsed": false
   },
   "outputs": [],
   "source": [
    "api_url = 'https://redcap.vanderbilt.edu/api/'\n",
    "\n",
    "hospitalized_key = open(\"token.txt\").read()\n",
    "hospitalized_proj = Project(api_url, hospitalized_key)\n",
    "hospitalized_raw = hospitalized_proj.export_records(format='df', \n",
    "                            df_kwargs={'index_col': hospitalized_proj.field_names[0]})\n",
    "\n",
    "hospitalized_raw.to_csv(\"kawasaki.csv\")\n",
    "metadata = hospitalized_proj.export_metadata()"
   ]
  },
  {
   "cell_type": "code",
   "execution_count": 9,
   "metadata": {
    "collapsed": false
   },
   "outputs": [],
   "source": [
    "data = hospitalized_raw.copy()\n",
    "\n",
    "data['race_new'] = 'Other'\n",
    "data.loc[data.race==4, 'race_new'] = 'White'\n",
    "data.loc[data.race==3, 'race_new'] = 'Black'\n",
    "data.loc[data.race==1, 'race_new'] = 'Asian'\n",
    "data.loc[data.race==8, 'race_new'] = 'Hispanic'\n",
    "\n",
    "summary = (data.race_new.value_counts()/data.shape[0]).round(2)\n",
    "\n",
    "summary['foo'] = 'bar'\n",
    "summary = summary.drop('foo')\n",
    "sexcount = data.sex.value_counts()\n",
    "summary['Male:Female'] = float(sexcount.ix[1])/sexcount.ix[0]\n",
    "\n",
    "def getage(td):\n",
    "    tdr = repr(td)\n",
    "    return int(tdr[tdr.index('\\'')+1:tdr.find('days')])/365.25\n",
    "\n",
    "dob = pd.to_datetime(data.dob)\n",
    "adm = pd.to_datetime(data.date_admission)\n",
    "age = adm-dob\n",
    "age = age[age>np.timedelta64(0)]\n",
    "\n",
    "medstr = repr(age.median())\n",
    "summary['Median age'] = np.round(getage(age.median()),1)\n",
    "summary['Age range'] = np.round(getage(age.min()),2), np.round(getage(age.max()), 2)\n",
    "summary['Subjects'] = data.shape[0]"
   ]
  },
  {
   "cell_type": "code",
   "execution_count": 25,
   "metadata": {
    "collapsed": false
   },
   "outputs": [
    {
     "data": {
      "text/html": [
       "<div>\n",
       "<table border=\"1\" class=\"dataframe\">\n",
       "  <thead>\n",
       "    <tr style=\"text-align: right;\">\n",
       "      <th></th>\n",
       "      <th>type</th>\n",
       "      <th>value</th>\n",
       "    </tr>\n",
       "  </thead>\n",
       "  <tbody>\n",
       "    <tr>\n",
       "      <th>White</th>\n",
       "      <td>Demographic</td>\n",
       "      <td>0.62</td>\n",
       "    </tr>\n",
       "    <tr>\n",
       "      <th>Black</th>\n",
       "      <td>Demographic</td>\n",
       "      <td>0.23</td>\n",
       "    </tr>\n",
       "    <tr>\n",
       "      <th>Other</th>\n",
       "      <td>Demographic</td>\n",
       "      <td>0.1</td>\n",
       "    </tr>\n",
       "    <tr>\n",
       "      <th>Asian</th>\n",
       "      <td>Demographic</td>\n",
       "      <td>0.04</td>\n",
       "    </tr>\n",
       "    <tr>\n",
       "      <th>Hispanic</th>\n",
       "      <td>Demographic</td>\n",
       "      <td>0.01</td>\n",
       "    </tr>\n",
       "    <tr>\n",
       "      <th>Male:Female</th>\n",
       "      <td>Demographic</td>\n",
       "      <td>1.97619</td>\n",
       "    </tr>\n",
       "    <tr>\n",
       "      <th>Median age</th>\n",
       "      <td>Demographic</td>\n",
       "      <td>2.8</td>\n",
       "    </tr>\n",
       "    <tr>\n",
       "      <th>Age range</th>\n",
       "      <td>Demographic</td>\n",
       "      <td>(0.16, 14.06)</td>\n",
       "    </tr>\n",
       "    <tr>\n",
       "      <th>Subjects</th>\n",
       "      <td>Demographic</td>\n",
       "      <td>375</td>\n",
       "    </tr>\n",
       "  </tbody>\n",
       "</table>\n",
       "</div>"
      ],
      "text/plain": [
       "                    type          value\n",
       "White        Demographic           0.62\n",
       "Black        Demographic           0.23\n",
       "Other        Demographic            0.1\n",
       "Asian        Demographic           0.04\n",
       "Hispanic     Demographic           0.01\n",
       "Male:Female  Demographic        1.97619\n",
       "Median age   Demographic            2.8\n",
       "Age range    Demographic  (0.16, 14.06)\n",
       "Subjects     Demographic            375"
      ]
     },
     "execution_count": 25,
     "metadata": {},
     "output_type": "execute_result"
    }
   ],
   "source": [
    "summary_df = pd.DataFrame(dict(value=summary, type='Demographic'))\n",
    "summary_df"
   ]
  },
  {
   "cell_type": "code",
   "execution_count": 11,
   "metadata": {
    "collapsed": true
   },
   "outputs": [],
   "source": [
    "cc = ['clinical_criteria___0','clinical_criteria___1','clinical_criteria___2','clinical_criteria___3','clinical_criteria___4']\n",
    "\n",
    "clinical = data[cc].mean().round(2)\n",
    "clinical.index = 'Fever','Rash','Conjunctivitis','Mucositis','Cervical node'"
   ]
  },
  {
   "cell_type": "code",
   "execution_count": 13,
   "metadata": {
    "collapsed": false
   },
   "outputs": [
    {
     "data": {
      "text/plain": [
       "Fever             0.99\n",
       "Rash              0.91\n",
       "Conjunctivitis    0.93\n",
       "Mucositis         0.90\n",
       "Cervical node     0.28\n",
       "dtype: float64"
      ]
     },
     "execution_count": 13,
     "metadata": {},
     "output_type": "execute_result"
    }
   ],
   "source": [
    "clinical"
   ]
  },
  {
   "cell_type": "code",
   "execution_count": 26,
   "metadata": {
    "collapsed": false
   },
   "outputs": [
    {
     "data": {
      "text/html": [
       "<div>\n",
       "<table border=\"1\" class=\"dataframe\">\n",
       "  <thead>\n",
       "    <tr style=\"text-align: right;\">\n",
       "      <th></th>\n",
       "      <th>type</th>\n",
       "      <th>value</th>\n",
       "    </tr>\n",
       "  </thead>\n",
       "  <tbody>\n",
       "    <tr>\n",
       "      <th>Fever</th>\n",
       "      <td>Clinical</td>\n",
       "      <td>0.99</td>\n",
       "    </tr>\n",
       "    <tr>\n",
       "      <th>Rash</th>\n",
       "      <td>Clinical</td>\n",
       "      <td>0.91</td>\n",
       "    </tr>\n",
       "    <tr>\n",
       "      <th>Conjunctivitis</th>\n",
       "      <td>Clinical</td>\n",
       "      <td>0.93</td>\n",
       "    </tr>\n",
       "    <tr>\n",
       "      <th>Mucositis</th>\n",
       "      <td>Clinical</td>\n",
       "      <td>0.90</td>\n",
       "    </tr>\n",
       "    <tr>\n",
       "      <th>Cervical node</th>\n",
       "      <td>Clinical</td>\n",
       "      <td>0.28</td>\n",
       "    </tr>\n",
       "    <tr>\n",
       "      <th>Not meeting AHA criteria</th>\n",
       "      <td>Clinical</td>\n",
       "      <td>0.50</td>\n",
       "    </tr>\n",
       "    <tr>\n",
       "      <th>Meeting AHA lab criteria</th>\n",
       "      <td>Clinical</td>\n",
       "      <td>0.25</td>\n",
       "    </tr>\n",
       "    <tr>\n",
       "      <th>Meeting AHA echo criteria</th>\n",
       "      <td>Clinical</td>\n",
       "      <td>0.15</td>\n",
       "    </tr>\n",
       "    <tr>\n",
       "      <th>Meeting AHA lab and echo criteria</th>\n",
       "      <td>Clinical</td>\n",
       "      <td>0.10</td>\n",
       "    </tr>\n",
       "    <tr>\n",
       "      <th>Not meeting AHA criteria</th>\n",
       "      <td>Clinical</td>\n",
       "      <td>0.50</td>\n",
       "    </tr>\n",
       "    <tr>\n",
       "      <th>Meeting AHA lab criteria</th>\n",
       "      <td>Clinical</td>\n",
       "      <td>0.25</td>\n",
       "    </tr>\n",
       "    <tr>\n",
       "      <th>Meeting AHA echo criteria</th>\n",
       "      <td>Clinical</td>\n",
       "      <td>0.15</td>\n",
       "    </tr>\n",
       "    <tr>\n",
       "      <th>Meeting AHA lab and echo criteria</th>\n",
       "      <td>Clinical</td>\n",
       "      <td>0.10</td>\n",
       "    </tr>\n",
       "  </tbody>\n",
       "</table>\n",
       "</div>"
      ],
      "text/plain": [
       "                                       type  value\n",
       "Fever                              Clinical   0.99\n",
       "Rash                               Clinical   0.91\n",
       "Conjunctivitis                     Clinical   0.93\n",
       "Mucositis                          Clinical   0.90\n",
       "Cervical node                      Clinical   0.28\n",
       "Not meeting AHA criteria           Clinical   0.50\n",
       "Meeting AHA lab criteria           Clinical   0.25\n",
       "Meeting AHA echo criteria          Clinical   0.15\n",
       "Meeting AHA lab and echo criteria  Clinical   0.10\n",
       "Not meeting AHA criteria           Clinical   0.50\n",
       "Meeting AHA lab criteria           Clinical   0.25\n",
       "Meeting AHA echo criteria          Clinical   0.15\n",
       "Meeting AHA lab and echo criteria  Clinical   0.10"
      ]
     },
     "execution_count": 26,
     "metadata": {},
     "output_type": "execute_result"
    }
   ],
   "source": [
    "level_incomplete = data.level_incomplete.replace({1:'Meeting AHA lab criteria',\n",
    "                              2:'Not meeting AHA criteria',\n",
    "                              3:'Meeting AHA echo criteria',\n",
    "                              4:'Meeting AHA lab and echo criteria'}).value_counts()\n",
    "clinical = clinical.append(level_incomplete/data.level_incomplete.notnull().sum())\n",
    "clinical_df = pd.DataFrame(dict(value=clinical, type='Clinical'))\n",
    "clinical_df"
   ]
  },
  {
   "cell_type": "code",
   "execution_count": 31,
   "metadata": {
    "collapsed": false
   },
   "outputs": [
    {
     "data": {
      "text/html": [
       "<div>\n",
       "<table border=\"1\" class=\"dataframe\">\n",
       "  <thead>\n",
       "    <tr style=\"text-align: right;\">\n",
       "      <th></th>\n",
       "      <th>type</th>\n",
       "      <th>value</th>\n",
       "    </tr>\n",
       "  </thead>\n",
       "  <tbody>\n",
       "    <tr>\n",
       "      <th>Ectasia</th>\n",
       "      <td>Abnormal initial echo</td>\n",
       "      <td>0.197</td>\n",
       "    </tr>\n",
       "    <tr>\n",
       "      <th>Aneurysm</th>\n",
       "      <td>Abnormal initial echo</td>\n",
       "      <td>0.027</td>\n",
       "    </tr>\n",
       "    <tr>\n",
       "      <th>Pericardial effusion</th>\n",
       "      <td>Abnormal initial echo</td>\n",
       "      <td>0.163</td>\n",
       "    </tr>\n",
       "    <tr>\n",
       "      <th>Mitral regurgitation</th>\n",
       "      <td>Abnormal initial echo</td>\n",
       "      <td>0.192</td>\n",
       "    </tr>\n",
       "    <tr>\n",
       "      <th>Aneurysm or ectasia</th>\n",
       "      <td>Abnormal initial echo</td>\n",
       "      <td>0.203</td>\n",
       "    </tr>\n",
       "  </tbody>\n",
       "</table>\n",
       "</div>"
      ],
      "text/plain": [
       "                                       type  value\n",
       "Ectasia               Abnormal initial echo  0.197\n",
       "Aneurysm              Abnormal initial echo  0.027\n",
       "Pericardial effusion  Abnormal initial echo  0.163\n",
       "Mitral regurgitation  Abnormal initial echo  0.192\n",
       "Aneurysm or ectasia   Abnormal initial echo  0.203"
      ]
     },
     "execution_count": 31,
     "metadata": {},
     "output_type": "execute_result"
    }
   ],
   "source": [
    "ab = ['abnormality___1','abnormality___2','abnormality___3','abnormality___4']\n",
    "\n",
    "abnormality = data[ab].mean().round(3)\n",
    "abnormality.index = 'Ectasia','Aneurysm','Pericardial effusion','Mitral regurgitation'\n",
    "abnormality['Aneurysm or ectasia'] = data[ab[:2]].sum(axis=1).astype(bool).mean().round(3)\n",
    "abnormality_df = pd.DataFrame(dict(value=abnormality, type='Abnormal initial echo'))\n",
    "abnormality_df"
   ]
  },
  {
   "cell_type": "code",
   "execution_count": 37,
   "metadata": {
    "collapsed": false
   },
   "outputs": [
    {
     "data": {
      "text/plain": [
       "Median days of fever before IVIG treatment              6\n",
       "Range days of fever before IVIG treatment     (2.0, 50.0)\n",
       "dtype: object"
      ]
     },
     "execution_count": 37,
     "metadata": {},
     "output_type": "execute_result"
    }
   ],
   "source": [
    "clinical_course = pd.Series([])\n",
    "clinical_course['Median days of fever before IVIG treatment'] = data.illness_day_at_rx.median()\n",
    "clinical_course['Range days of fever before IVIG treatment'] = (data.illness_day_at_rx.min(),\n",
    "                                                                data.illness_day_at_rx.max())\n",
    "clinical_course"
   ]
  },
  {
   "cell_type": "code",
   "execution_count": 49,
   "metadata": {
    "collapsed": false
   },
   "outputs": [],
   "source": [
    "ivig_within_10 = ((pd.to_datetime(data.kd_therapy_0) - adm) < np.timedelta64(10, 'D'))\n",
    "clinical_course['IVIG within 10 days'] = ivig_within_10.dropna().mean()"
   ]
  },
  {
   "cell_type": "code",
   "execution_count": 55,
   "metadata": {
    "collapsed": false
   },
   "outputs": [],
   "source": [
    "clinical_course['Readmitted'] = data.readmission_date.notnull().mean().round(2)\n",
    "clinical_course['KDSS'] = data.kdss.mean().round(2)"
   ]
  },
  {
   "cell_type": "code",
   "execution_count": 57,
   "metadata": {
    "collapsed": false
   },
   "outputs": [],
   "source": [
    "clinical_course_df = pd.DataFrame(dict(value=clinical_course, type='Clinical course'))"
   ]
  },
  {
   "cell_type": "code",
   "execution_count": 102,
   "metadata": {
    "collapsed": false
   },
   "outputs": [],
   "source": [
    "table = pd.concat([summary_df, clinical_df, abnormality_df, clinical_course_df])\n",
    "table.index.name = 'variable'"
   ]
  },
  {
   "cell_type": "code",
   "execution_count": 105,
   "metadata": {
    "collapsed": false
   },
   "outputs": [],
   "source": [
    "value_series = table.value\n",
    "value_series.index = [table.type, table.index]"
   ]
  },
  {
   "cell_type": "code",
   "execution_count": 107,
   "metadata": {
    "collapsed": false,
    "scrolled": false
   },
   "outputs": [
    {
     "data": {
      "text/html": [
       "<div>\n",
       "<table border=\"1\" class=\"dataframe\">\n",
       "  <thead>\n",
       "    <tr style=\"text-align: right;\">\n",
       "      <th></th>\n",
       "      <th></th>\n",
       "      <th>value</th>\n",
       "    </tr>\n",
       "    <tr>\n",
       "      <th>type</th>\n",
       "      <th>variable</th>\n",
       "      <th></th>\n",
       "    </tr>\n",
       "  </thead>\n",
       "  <tbody>\n",
       "    <tr>\n",
       "      <th rowspan=\"9\" valign=\"top\">Demographic</th>\n",
       "      <th>White</th>\n",
       "      <td>0.62</td>\n",
       "    </tr>\n",
       "    <tr>\n",
       "      <th>Black</th>\n",
       "      <td>0.23</td>\n",
       "    </tr>\n",
       "    <tr>\n",
       "      <th>Other</th>\n",
       "      <td>0.1</td>\n",
       "    </tr>\n",
       "    <tr>\n",
       "      <th>Asian</th>\n",
       "      <td>0.04</td>\n",
       "    </tr>\n",
       "    <tr>\n",
       "      <th>Hispanic</th>\n",
       "      <td>0.01</td>\n",
       "    </tr>\n",
       "    <tr>\n",
       "      <th>Male:Female</th>\n",
       "      <td>1.97619</td>\n",
       "    </tr>\n",
       "    <tr>\n",
       "      <th>Median age</th>\n",
       "      <td>2.8</td>\n",
       "    </tr>\n",
       "    <tr>\n",
       "      <th>Age range</th>\n",
       "      <td>(0.16, 14.06)</td>\n",
       "    </tr>\n",
       "    <tr>\n",
       "      <th>Subjects</th>\n",
       "      <td>375</td>\n",
       "    </tr>\n",
       "    <tr>\n",
       "      <th rowspan=\"13\" valign=\"top\">Clinical</th>\n",
       "      <th>Fever</th>\n",
       "      <td>0.99</td>\n",
       "    </tr>\n",
       "    <tr>\n",
       "      <th>Rash</th>\n",
       "      <td>0.91</td>\n",
       "    </tr>\n",
       "    <tr>\n",
       "      <th>Conjunctivitis</th>\n",
       "      <td>0.93</td>\n",
       "    </tr>\n",
       "    <tr>\n",
       "      <th>Mucositis</th>\n",
       "      <td>0.9</td>\n",
       "    </tr>\n",
       "    <tr>\n",
       "      <th>Cervical node</th>\n",
       "      <td>0.28</td>\n",
       "    </tr>\n",
       "    <tr>\n",
       "      <th>Not meeting AHA criteria</th>\n",
       "      <td>0.5</td>\n",
       "    </tr>\n",
       "    <tr>\n",
       "      <th>Meeting AHA lab criteria</th>\n",
       "      <td>0.25</td>\n",
       "    </tr>\n",
       "    <tr>\n",
       "      <th>Meeting AHA echo criteria</th>\n",
       "      <td>0.15</td>\n",
       "    </tr>\n",
       "    <tr>\n",
       "      <th>Meeting AHA lab and echo criteria</th>\n",
       "      <td>0.1</td>\n",
       "    </tr>\n",
       "    <tr>\n",
       "      <th>Not meeting AHA criteria</th>\n",
       "      <td>0.5</td>\n",
       "    </tr>\n",
       "    <tr>\n",
       "      <th>Meeting AHA lab criteria</th>\n",
       "      <td>0.25</td>\n",
       "    </tr>\n",
       "    <tr>\n",
       "      <th>Meeting AHA echo criteria</th>\n",
       "      <td>0.15</td>\n",
       "    </tr>\n",
       "    <tr>\n",
       "      <th>Meeting AHA lab and echo criteria</th>\n",
       "      <td>0.1</td>\n",
       "    </tr>\n",
       "    <tr>\n",
       "      <th rowspan=\"5\" valign=\"top\">Abnormal initial echo</th>\n",
       "      <th>Ectasia</th>\n",
       "      <td>0.197</td>\n",
       "    </tr>\n",
       "    <tr>\n",
       "      <th>Aneurysm</th>\n",
       "      <td>0.027</td>\n",
       "    </tr>\n",
       "    <tr>\n",
       "      <th>Pericardial effusion</th>\n",
       "      <td>0.163</td>\n",
       "    </tr>\n",
       "    <tr>\n",
       "      <th>Mitral regurgitation</th>\n",
       "      <td>0.192</td>\n",
       "    </tr>\n",
       "    <tr>\n",
       "      <th>Aneurysm or ectasia</th>\n",
       "      <td>0.203</td>\n",
       "    </tr>\n",
       "    <tr>\n",
       "      <th rowspan=\"5\" valign=\"top\">Clinical course</th>\n",
       "      <th>Median days of fever before IVIG treatment</th>\n",
       "      <td>6</td>\n",
       "    </tr>\n",
       "    <tr>\n",
       "      <th>Range days of fever before IVIG treatment</th>\n",
       "      <td>(2.0, 50.0)</td>\n",
       "    </tr>\n",
       "    <tr>\n",
       "      <th>IVIG within 10 days</th>\n",
       "      <td>0.984</td>\n",
       "    </tr>\n",
       "    <tr>\n",
       "      <th>Readmitted</th>\n",
       "      <td>0.09</td>\n",
       "    </tr>\n",
       "    <tr>\n",
       "      <th>KDSS</th>\n",
       "      <td>0.02</td>\n",
       "    </tr>\n",
       "  </tbody>\n",
       "</table>\n",
       "</div>"
      ],
      "text/plain": [
       "                                                                          value\n",
       "type                  variable                                                 \n",
       "Demographic           White                                                0.62\n",
       "                      Black                                                0.23\n",
       "                      Other                                                 0.1\n",
       "                      Asian                                                0.04\n",
       "                      Hispanic                                             0.01\n",
       "                      Male:Female                                       1.97619\n",
       "                      Median age                                            2.8\n",
       "                      Age range                                   (0.16, 14.06)\n",
       "                      Subjects                                              375\n",
       "Clinical              Fever                                                0.99\n",
       "                      Rash                                                 0.91\n",
       "                      Conjunctivitis                                       0.93\n",
       "                      Mucositis                                             0.9\n",
       "                      Cervical node                                        0.28\n",
       "                      Not meeting AHA criteria                              0.5\n",
       "                      Meeting AHA lab criteria                             0.25\n",
       "                      Meeting AHA echo criteria                            0.15\n",
       "                      Meeting AHA lab and echo criteria                     0.1\n",
       "                      Not meeting AHA criteria                              0.5\n",
       "                      Meeting AHA lab criteria                             0.25\n",
       "                      Meeting AHA echo criteria                            0.15\n",
       "                      Meeting AHA lab and echo criteria                     0.1\n",
       "Abnormal initial echo Ectasia                                             0.197\n",
       "                      Aneurysm                                            0.027\n",
       "                      Pericardial effusion                                0.163\n",
       "                      Mitral regurgitation                                0.192\n",
       "                      Aneurysm or ectasia                                 0.203\n",
       "Clinical course       Median days of fever before IVIG treatment              6\n",
       "                      Range days of fever before IVIG treatment     (2.0, 50.0)\n",
       "                      IVIG within 10 days                                 0.984\n",
       "                      Readmitted                                           0.09\n",
       "                      KDSS                                                 0.02"
      ]
     },
     "execution_count": 107,
     "metadata": {},
     "output_type": "execute_result"
    }
   ],
   "source": [
    "pd.DataFrame(value_series)"
   ]
  }
 ],
 "metadata": {
  "kernelspec": {
   "display_name": "Python 2",
   "language": "python",
   "name": "python2"
  },
  "language_info": {
   "codemirror_mode": {
    "name": "ipython",
    "version": 2
   },
   "file_extension": ".py",
   "mimetype": "text/x-python",
   "name": "python",
   "nbconvert_exporter": "python",
   "pygments_lexer": "ipython2",
   "version": "2.7.10"
  }
 },
 "nbformat": 4,
 "nbformat_minor": 0
}
